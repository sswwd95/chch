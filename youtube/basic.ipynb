{
 "cells": [
  {
   "cell_type": "code",
   "execution_count": null,
   "source": [
    "import numpy as np\r\n",
    "import pandas as pd\r\n",
    "import matplotlib.pyplot as plt\r\n",
    "\r\n",
    "import os\r\n",
    "print(os.listdir())"
   ],
   "outputs": [],
   "metadata": {}
  },
  {
   "cell_type": "code",
   "execution_count": 1,
   "source": [
    "import numpy as np\r\n",
    "\r\n",
    "array = [[1,2,3],[4,5,6]]\r\n",
    "first_array = np.array(array) # 2*3 array\r\n",
    "print('array type : {}'.format(type(first_array)))\r\n",
    "print('array shape : {}'.format(np.shape(first_array)))\r\n",
    "print(first_array)\r\n"
   ],
   "outputs": [
    {
     "output_type": "stream",
     "name": "stdout",
     "text": [
      "array type : <class 'numpy.ndarray'>\n",
      "array shape : (2, 3)\n",
      "[[1 2 3]\n",
      " [4 5 6]]\n"
     ]
    }
   ],
   "metadata": {}
  },
  {
   "cell_type": "code",
   "execution_count": 2,
   "source": [
    "import torch\r\n",
    "\r\n",
    "tensor = torch.Tensor(array)\r\n",
    "print('array type : {}'.format(tensor.type))\r\n",
    "print('array shape : {}'.format(tensor.shape))\r\n",
    "print(tensor)"
   ],
   "outputs": [
    {
     "output_type": "stream",
     "name": "stdout",
     "text": [
      "array type : <built-in method type of Tensor object at 0x000001997C848680>\n",
      "array shape : torch.Size([2, 3])\n",
      "tensor([[1., 2., 3.],\n",
      "        [4., 5., 6.]])\n"
     ]
    }
   ],
   "metadata": {}
  },
  {
   "cell_type": "code",
   "execution_count": 3,
   "source": [
    "print('numpy {}\\n'.format(np.ones((2,3))))\r\n",
    "\r\n",
    "print(torch.ones((2,3)))"
   ],
   "outputs": [
    {
     "output_type": "stream",
     "name": "stdout",
     "text": [
      "numpy [[1. 1. 1.]\n",
      " [1. 1. 1.]]\n",
      "\n",
      "tensor([[1., 1., 1.],\n",
      "        [1., 1., 1.]])\n"
     ]
    }
   ],
   "metadata": {}
  },
  {
   "cell_type": "code",
   "execution_count": 4,
   "source": [
    "print('numpy {}\\n'.format(np.random.rand(2,3)))\r\n",
    "\r\n",
    "print(torch.rand(2,3))"
   ],
   "outputs": [
    {
     "output_type": "stream",
     "name": "stdout",
     "text": [
      "numpy [[0.4270184  0.52263319 0.11397152]\n",
      " [0.08976703 0.03399129 0.05020707]]\n",
      "\n",
      "tensor([[0.8673, 0.9763, 0.2061],\n",
      "        [0.6375, 0.1360, 0.8149]])\n"
     ]
    }
   ],
   "metadata": {}
  },
  {
   "cell_type": "code",
   "execution_count": 6,
   "source": [
    "array = np.random.rand(2,2)\r\n",
    "print('{} {}\\n'.format(type(array),array))\r\n",
    "\r\n",
    "from_numpy_to_tensor = torch.from_numpy(array)\r\n",
    "print('{}\\n'.format(from_numpy_to_tensor))\r\n",
    "\r\n",
    "tensor = from_numpy_to_tensor\r\n",
    "from_tensor_to_numpy = tensor.numpy()\r\n",
    "print('{} {}\\n'.format(type(from_tensor_to_numpy),from_tensor_to_numpy))"
   ],
   "outputs": [
    {
     "output_type": "stream",
     "name": "stdout",
     "text": [
      "<class 'numpy.ndarray'> [[0.73055044 0.52308135]\n",
      " [0.82326249 0.86493493]]\n",
      "\n",
      "tensor([[0.7306, 0.5231],\n",
      "        [0.8233, 0.8649]], dtype=torch.float64)\n",
      "\n",
      "<class 'numpy.ndarray'> [[0.73055044 0.52308135]\n",
      " [0.82326249 0.86493493]]\n",
      "\n"
     ]
    }
   ],
   "metadata": {}
  },
  {
   "cell_type": "markdown",
   "source": [
    "Resize: view()\r\n",
    "a and b are tensor.\r\n",
    "Addition: torch.add(a,b) = a + b\r\n",
    "Subtraction: a.sub(b) = a - b\r\n",
    "Element wise multiplication: torch.mul(a,b) = a * b\r\n",
    "Element wise division: torch.div(a,b) = a / b\r\n",
    "Mean: a.mean()\r\n",
    "Standart Deviation (std): a.std()"
   ],
   "metadata": {}
  },
  {
   "cell_type": "code",
   "execution_count": 7,
   "source": [
    "# create tensor\r\n",
    "tensor = torch.ones(3,3)\r\n",
    "print('\\n', tensor)\r\n",
    "\r\n",
    "# resize\r\n",
    "print('{}{}\\n'.format(tensor.view(9).shape, tensor.view(9)))\r\n",
    "\r\n",
    "# addition 더하기\r\n",
    "print('addition: {}\\n'.format(torch.add(tensor,tensor)))\r\n",
    "# 1+1이 되어 2로 채워짐\r\n",
    "\r\n",
    "# subtraction 빼기\r\n",
    "print('subtraction : {}\\n'.format(tensor.sub(tensor)))\r\n",
    "# 1-1이 되어 0으로 채워짐\r\n",
    "\r\n",
    "# element wise mutiplication 곱하기\r\n",
    "print('element wise mutiplication: {}\\n'.format(torch.mul(tensor,tensor)))\r\n",
    "\r\n",
    "# Element wise division 나누기\r\n",
    "print(\"Element wise division: {}\\n\".format(torch.div(tensor,tensor)))\r\n",
    "\r\n",
    "# mean\r\n",
    "tensor = torch.Tensor([1,2,3,4,5])\r\n",
    "print('mean : {}'.format(tensor.mean()))\r\n",
    "\r\n",
    "# Standart deviation (std)\r\n",
    "print(\"std: {}\".format(tensor.std()))"
   ],
   "outputs": [
    {
     "output_type": "stream",
     "name": "stdout",
     "text": [
      "\n",
      " tensor([[1., 1., 1.],\n",
      "        [1., 1., 1.],\n",
      "        [1., 1., 1.]])\n",
      "torch.Size([9])tensor([1., 1., 1., 1., 1., 1., 1., 1., 1.])\n",
      "\n",
      "addition: tensor([[2., 2., 2.],\n",
      "        [2., 2., 2.],\n",
      "        [2., 2., 2.]])\n",
      "\n",
      "subtraction : tensor([[0., 0., 0.],\n",
      "        [0., 0., 0.],\n",
      "        [0., 0., 0.]])\n",
      "\n",
      "element wise mutiplication: tensor([[1., 1., 1.],\n",
      "        [1., 1., 1.],\n",
      "        [1., 1., 1.]])\n",
      "\n",
      "Element wise division: tensor([[1., 1., 1.],\n",
      "        [1., 1., 1.],\n",
      "        [1., 1., 1.]])\n",
      "\n",
      "mean : 3.0\n",
      "std: 1.5811388492584229\n"
     ]
    }
   ],
   "metadata": {}
  },
  {
   "cell_type": "code",
   "execution_count": 10,
   "source": [
    "from torch.autograd import Variable\r\n",
    "\r\n",
    "var = Variable(torch.ones(3), requires_grad = True)\r\n",
    "var"
   ],
   "outputs": [
    {
     "output_type": "execute_result",
     "data": {
      "text/plain": [
       "tensor([1., 1., 1.], requires_grad=True)"
      ]
     },
     "metadata": {},
     "execution_count": 10
    }
   ],
   "metadata": {}
  },
  {
   "cell_type": "code",
   "execution_count": 13,
   "source": [
    "array = [2,4]\r\n",
    "tensor = torch.Tensor(array)\r\n",
    "x = Variable(tensor,requires_grad = True)\r\n",
    "y = x**2\r\n",
    "print('y = ', y)\r\n",
    "\r\n",
    "o = (1/2)*sum(y)\r\n",
    "print('o = ',o)\r\n",
    "\r\n",
    "o.backward() # 기울기 계산 -> 미분\r\n",
    "print('gradients : ', x.grad)"
   ],
   "outputs": [
    {
     "output_type": "stream",
     "name": "stdout",
     "text": [
      "y =  tensor([ 4., 16.], grad_fn=<PowBackward0>)\n",
      "o =  tensor(10., grad_fn=<MulBackward0>)\n",
      "gradients :  tensor([2., 4.])\n"
     ]
    }
   ],
   "metadata": {}
  },
  {
   "cell_type": "markdown",
   "source": [
    "Linear Regression"
   ],
   "metadata": {}
  },
  {
   "cell_type": "code",
   "execution_count": 19,
   "source": [
    "car_prices_array = [3,4,5,6,7,8,9]\r\n",
    "car_price_np = np.array(car_prices_array, dtype=np.float32)\r\n",
    "print('car_price_np.shape:',car_price_np.shape) \r\n",
    "# float32와 64의 차이는? 64가 숫자를 더 정확하게 표현+용량 커짐(큰 차이는 안남)\r\n",
    "car_price_np = car_price_np.reshape(-1,1)\r\n",
    "print('car_price_np:', car_price_np)\r\n",
    "car_price_tensor = Variable(torch.from_numpy(car_price_np))\r\n",
    "print('car_price_tensor:', car_price_tensor)\r\n",
    "\r\n",
    "number_of_car_sell_array = [7.5,7,6.5,6.0,5.5,5.0,4.5]\r\n",
    "number_of_car_sell_np = np.array(number_of_car_sell_array,dtype=np.float32)\r\n",
    "number_of_car_sell_np = number_of_car_sell_np.reshape(-1,1)\r\n",
    "number_of_car_sell_tensor = Variable(torch.from_numpy(number_of_car_sell_np))\r\n",
    "\r\n",
    "import matplotlib.pyplot as plt\r\n",
    "plt.scatter(car_prices_array, number_of_car_sell_array)\r\n",
    "plt.xlabel('car price $')\r\n",
    "plt.ylabel('number of car sell')\r\n",
    "plt.title('car price$ vs number of car sell')\r\n",
    "plt.show()\r\n",
    "\r\n"
   ],
   "outputs": [
    {
     "output_type": "stream",
     "name": "stdout",
     "text": [
      "car_price_np.shape: (7,)\n",
      "car_price_np: [[3.]\n",
      " [4.]\n",
      " [5.]\n",
      " [6.]\n",
      " [7.]\n",
      " [8.]\n",
      " [9.]]\n",
      "car_price_tensor: tensor([[3.],\n",
      "        [4.],\n",
      "        [5.],\n",
      "        [6.],\n",
      "        [7.],\n",
      "        [8.],\n",
      "        [9.]])\n"
     ]
    },
    {
     "output_type": "display_data",
     "data": {
      "image/png": "[encoded data removed]",
      "text/plain": [
       "<Figure size 432x288 with 1 Axes>"
      ]
     },
     "metadata": {
      "needs_background": "light"
     }
    }
   ],
   "metadata": {}
  },
  {
   "cell_type": "markdown",
   "source": [
    "Steps of Linear Regression\r\n",
    "* create LinearRegression class\r\n",
    "* define model from this LinearRegression class\r\n",
    "* MSE: Mean squared error\r\n",
    "* Optimization (SGD:stochastic gradient descent)\r\n",
    "* Backpropagation\r\n",
    "* Prediction"
   ],
   "metadata": {}
  },
  {
   "cell_type": "code",
   "execution_count": null,
   "source": [
    "import torch\r\n",
    "from torch.autograd import Variable\r\n",
    "import torch.nn as nn\r\n",
    "import warnings\r\n",
    "warnings.filterwarnings('ignore')\r\n",
    "\r\n",
    "class LinearRegression(nn.Module):\r\n",
    "    def __init__(self, input_size,output_size):\r\n",
    "        super(LinearRegression, self).__init__()\r\n",
    "        self.linear = nn.Linear(input_dim, output_dim)\r\n",
    "    def forward(self,x):\r\n",
    "        return self.linear(x)\r\n",
    "\r\n",
    "input_dim = 1\r\n",
    "output_dim = 1\r\n",
    "model = LinearRegression(input_dim, output_dim)\r\n",
    "\r\n",
    "# MSE\r\n",
    "mse = nn.MSELoss()\r\n",
    "\r\n",
    "# optimization\r\n",
    "learning_rate = 0.02\r\n",
    "optimizer = torch.optim.SGD(model.parameters(),lr = learning_rate)\r\n",
    "\r\n",
    "# train model\r\n",
    "loss_list = []\r\n",
    "iteration_number = 1001 #반복 숫자 = epoch\r\n",
    "for iteration in range(iteration_number):\r\n",
    "    # optimization\r\n",
    "    optimizer.zero_grad()\r\n",
    "    # 갱신되는 loss값을 누적되지 않도록 만들어주는 것\r\n",
    "    # torch는 tensor와 다르게 loss가 누적된다.\r\n",
    "\r\n",
    "    # Forward to get output\r\n",
    "    results = model(car_price_tensor)\r\n"
   ],
   "outputs": [],
   "metadata": {}
  }
 ],
 "metadata": {
  "orig_nbformat": 4,
  "language_info": {
   "name": "python",
   "version": "3.8.5",
   "mimetype": "text/x-python",
   "codemirror_mode": {
    "name": "ipython",
    "version": 3
   },
   "pygments_lexer": "ipython3",
   "nbconvert_exporter": "python",
   "file_extension": ".py"
  },
  "kernelspec": {
   "name": "python3",
   "display_name": "Python 3.8.5 64-bit ('chch': conda)"
  },
  "interpreter": {
   "hash": "a64de8b745ab094eb3381810b1d090f0053b4977cc21c07d5a367fb401258f96"
  }
 },
 "nbformat": 4,
 "nbformat_minor": 2
}