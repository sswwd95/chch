{
 "cells": [
  {
   "cell_type": "markdown",
   "source": [
    "1강. tensor"
   ],
   "metadata": {}
  },
  {
   "cell_type": "code",
   "execution_count": 13,
   "source": [
    "# torch tensor는 numpy array와 사용법이 유사하다.\r\n",
    "import torch\r\n",
    "import numpy as np\r\n",
    "\r\n",
    "x =  torch.empty(5,4)\r\n",
    "print(x)\r\n",
    "torch.ones(3,3)\r\n",
    "\r\n",
    "\r\n",
    "\r\n"
   ],
   "outputs": [
    {
     "output_type": "stream",
     "name": "stdout",
     "text": [
      "tensor([[8.4490e-39, 9.5510e-39, 9.5510e-39, 9.9184e-39],\n",
      "        [9.0000e-39, 1.0561e-38, 1.0653e-38, 4.1327e-39],\n",
      "        [8.9082e-39, 9.8265e-39, 9.4592e-39, 1.0561e-38],\n",
      "        [1.0102e-38, 1.0010e-38, 1.1112e-38, 8.7245e-39],\n",
      "        [9.6429e-39, 9.6429e-39, 8.7245e-39, 4.2246e-39]])\n"
     ]
    },
    {
     "output_type": "execute_result",
     "data": {
      "text/plain": [
       "tensor([[1., 1., 1.],\n",
       "        [1., 1., 1.],\n",
       "        [1., 1., 1.]])"
      ]
     },
     "metadata": {},
     "execution_count": 13
    }
   ],
   "metadata": {}
  },
  {
   "cell_type": "code",
   "execution_count": 14,
   "source": [
    "torch.zeros(2)"
   ],
   "outputs": [
    {
     "output_type": "execute_result",
     "data": {
      "text/plain": [
       "tensor([0., 0.])"
      ]
     },
     "metadata": {},
     "execution_count": 14
    }
   ],
   "metadata": {}
  },
  {
   "cell_type": "code",
   "execution_count": 15,
   "source": [
    "torch.rand(5,6)"
   ],
   "outputs": [
    {
     "output_type": "execute_result",
     "data": {
      "text/plain": [
       "tensor([[0.7573, 0.4188, 0.1837, 0.5062, 0.0551, 0.3329],\n",
       "        [0.6427, 0.9595, 0.4389, 0.1492, 0.1499, 0.2973],\n",
       "        [0.0313, 0.2066, 0.9509, 0.0708, 0.8306, 0.6028],\n",
       "        [0.5258, 0.3165, 0.0503, 0.3101, 0.0712, 0.1228],\n",
       "        [0.0581, 0.4615, 0.7382, 0.4153, 0.0476, 0.5274]])"
      ]
     },
     "metadata": {},
     "execution_count": 15
    }
   ],
   "metadata": {}
  },
  {
   "cell_type": "code",
   "execution_count": 21,
   "source": [
    "l = [13,4]\r\n",
    "r = np.array([4,58,7])\r\n",
    "\r\n",
    "print(torch.tensor(l))\r\n",
    "print(torch.tensor(r))\r\n",
    "\r\n",
    "print(type(x))\r\n"
   ],
   "outputs": [
    {
     "output_type": "stream",
     "name": "stdout",
     "text": [
      "tensor([13,  4])\n",
      "tensor([ 4, 58,  7], dtype=torch.int32)\n",
      "<class 'torch.Tensor'>\n"
     ]
    }
   ],
   "metadata": {}
  },
  {
   "cell_type": "code",
   "execution_count": 22,
   "source": [
    "x = torch.rand(2,2)\r\n",
    "y = torch.rand(2,2)\r\n",
    "print(x)\r\n",
    "print(y)\r\n"
   ],
   "outputs": [
    {
     "output_type": "stream",
     "name": "stdout",
     "text": [
      "tensor([[0.6389, 0.4169],\n",
      "        [0.1655, 0.3278]])\n",
      "tensor([[0.7822, 0.1166],\n",
      "        [0.8025, 0.7455]])\n"
     ]
    }
   ],
   "metadata": {}
  },
  {
   "cell_type": "code",
   "execution_count": 23,
   "source": [
    "x+y"
   ],
   "outputs": [
    {
     "output_type": "execute_result",
     "data": {
      "text/plain": [
       "tensor([[1.4211, 0.5335],\n",
       "        [0.9681, 1.0733]])"
      ]
     },
     "metadata": {},
     "execution_count": 23
    }
   ],
   "metadata": {}
  },
  {
   "cell_type": "code",
   "execution_count": 24,
   "source": [
    "y.add(x) #y에 x를 더한다"
   ],
   "outputs": [
    {
     "output_type": "execute_result",
     "data": {
      "text/plain": [
       "tensor([[1.4211, 0.5335],\n",
       "        [0.9681, 1.0733]])"
      ]
     },
     "metadata": {},
     "execution_count": 24
    }
   ],
   "metadata": {}
  },
  {
   "cell_type": "code",
   "execution_count": 25,
   "source": [
    "y.add_(x) # y에 x를 더하고  새로운 y값으로 대체한다\r\n",
    "print(y)"
   ],
   "outputs": [
    {
     "output_type": "stream",
     "name": "stdout",
     "text": [
      "tensor([[1.4211, 0.5335],\n",
      "        [0.9681, 1.0733]])\n"
     ]
    }
   ],
   "metadata": {}
  },
  {
   "cell_type": "code",
   "execution_count": 27,
   "source": [
    "print(y[1,1])\r\n",
    "print(y[:,1])\r\n"
   ],
   "outputs": [
    {
     "output_type": "stream",
     "name": "stdout",
     "text": [
      "tensor(1.0733)\n",
      "tensor([0.5335, 1.0733])\n"
     ]
    }
   ],
   "metadata": {}
  },
  {
   "cell_type": "code",
   "execution_count": 28,
   "source": [
    "x = torch.rand(8,8)\r\n",
    "print(x)"
   ],
   "outputs": [
    {
     "output_type": "stream",
     "name": "stdout",
     "text": [
      "tensor([[0.4990, 0.2535, 0.0017, 0.9767, 0.1002, 0.2762, 0.8473, 0.9397],\n",
      "        [0.0417, 0.7058, 0.2550, 0.5025, 0.9031, 0.1021, 0.6747, 0.1749],\n",
      "        [0.4995, 0.1272, 0.4877, 0.7931, 0.0407, 0.7332, 0.0142, 0.2224],\n",
      "        [0.9293, 0.2455, 0.9357, 0.1446, 0.0116, 0.2799, 0.4572, 0.1917],\n",
      "        [0.9501, 0.5288, 0.1228, 0.0547, 0.1054, 0.8870, 0.2596, 0.7117],\n",
      "        [0.1761, 0.9533, 0.6364, 0.6193, 0.8034, 0.8078, 0.5277, 0.7475],\n",
      "        [0.8804, 0.8387, 0.0806, 0.5340, 0.9953, 0.7716, 0.2911, 0.9563],\n",
      "        [0.0187, 0.7827, 0.3927, 0.6297, 0.3338, 0.6807, 0.4119, 0.5600]])\n"
     ]
    }
   ],
   "metadata": {}
  },
  {
   "cell_type": "code",
   "execution_count": 29,
   "source": [
    "# 텐서를 일렬로 변환하고 싶을 때, 예) cnn에서 fc계층으로 갈때 사용할 수 있다.\r\n",
    "x.view(64)"
   ],
   "outputs": [
    {
     "output_type": "execute_result",
     "data": {
      "text/plain": [
       "tensor([0.4990, 0.2535, 0.0017, 0.9767, 0.1002, 0.2762, 0.8473, 0.9397, 0.0417,\n",
       "        0.7058, 0.2550, 0.5025, 0.9031, 0.1021, 0.6747, 0.1749, 0.4995, 0.1272,\n",
       "        0.4877, 0.7931, 0.0407, 0.7332, 0.0142, 0.2224, 0.9293, 0.2455, 0.9357,\n",
       "        0.1446, 0.0116, 0.2799, 0.4572, 0.1917, 0.9501, 0.5288, 0.1228, 0.0547,\n",
       "        0.1054, 0.8870, 0.2596, 0.7117, 0.1761, 0.9533, 0.6364, 0.6193, 0.8034,\n",
       "        0.8078, 0.5277, 0.7475, 0.8804, 0.8387, 0.0806, 0.5340, 0.9953, 0.7716,\n",
       "        0.2911, 0.9563, 0.0187, 0.7827, 0.3927, 0.6297, 0.3338, 0.6807, 0.4119,\n",
       "        0.5600])"
      ]
     },
     "metadata": {},
     "execution_count": 29
    }
   ],
   "metadata": {}
  },
  {
   "cell_type": "code",
   "execution_count": 32,
   "source": [
    "print(x.view(4,16))\r\n",
    "print(x.view(-1,16))\r\n"
   ],
   "outputs": [
    {
     "output_type": "stream",
     "name": "stdout",
     "text": [
      "tensor([[0.4990, 0.2535, 0.0017, 0.9767, 0.1002, 0.2762, 0.8473, 0.9397, 0.0417,\n",
      "         0.7058, 0.2550, 0.5025, 0.9031, 0.1021, 0.6747, 0.1749],\n",
      "        [0.4995, 0.1272, 0.4877, 0.7931, 0.0407, 0.7332, 0.0142, 0.2224, 0.9293,\n",
      "         0.2455, 0.9357, 0.1446, 0.0116, 0.2799, 0.4572, 0.1917],\n",
      "        [0.9501, 0.5288, 0.1228, 0.0547, 0.1054, 0.8870, 0.2596, 0.7117, 0.1761,\n",
      "         0.9533, 0.6364, 0.6193, 0.8034, 0.8078, 0.5277, 0.7475],\n",
      "        [0.8804, 0.8387, 0.0806, 0.5340, 0.9953, 0.7716, 0.2911, 0.9563, 0.0187,\n",
      "         0.7827, 0.3927, 0.6297, 0.3338, 0.6807, 0.4119, 0.5600]])\n",
      "tensor([[0.4990, 0.2535, 0.0017, 0.9767, 0.1002, 0.2762, 0.8473, 0.9397, 0.0417,\n",
      "         0.7058, 0.2550, 0.5025, 0.9031, 0.1021, 0.6747, 0.1749],\n",
      "        [0.4995, 0.1272, 0.4877, 0.7931, 0.0407, 0.7332, 0.0142, 0.2224, 0.9293,\n",
      "         0.2455, 0.9357, 0.1446, 0.0116, 0.2799, 0.4572, 0.1917],\n",
      "        [0.9501, 0.5288, 0.1228, 0.0547, 0.1054, 0.8870, 0.2596, 0.7117, 0.1761,\n",
      "         0.9533, 0.6364, 0.6193, 0.8034, 0.8078, 0.5277, 0.7475],\n",
      "        [0.8804, 0.8387, 0.0806, 0.5340, 0.9953, 0.7716, 0.2911, 0.9563, 0.0187,\n",
      "         0.7827, 0.3927, 0.6297, 0.3338, 0.6807, 0.4119, 0.5600]])\n"
     ]
    }
   ],
   "metadata": {}
  },
  {
   "cell_type": "code",
   "execution_count": 34,
   "source": [
    "y = x.numpy()\r\n",
    "print(y)\r\n",
    "print(type(y))"
   ],
   "outputs": [
    {
     "output_type": "stream",
     "name": "stdout",
     "text": [
      "[[0.49901283 0.25345182 0.00168777 0.97673935 0.10015661 0.27616554\n",
      "  0.8472641  0.93972343]\n",
      " [0.04173613 0.70576906 0.25496274 0.5024653  0.90310663 0.10207897\n",
      "  0.6747167  0.17485774]\n",
      " [0.4994728  0.1272201  0.48769158 0.79308915 0.04073465 0.7331977\n",
      "  0.01424664 0.22237116]\n",
      " [0.92927396 0.24545246 0.93568534 0.14463717 0.01158631 0.2799273\n",
      "  0.45723444 0.1917094 ]\n",
      " [0.9500571  0.5287921  0.12280542 0.05474734 0.10537475 0.8869892\n",
      "  0.25956655 0.7116694 ]\n",
      " [0.17613214 0.9533126  0.6364271  0.6193012  0.8033911  0.80781305\n",
      "  0.5276995  0.74748194]\n",
      " [0.8804058  0.838684   0.08061689 0.53401035 0.9952555  0.7716059\n",
      "  0.29114097 0.956347  ]\n",
      " [0.01865989 0.78266037 0.3927467  0.62974614 0.3337642  0.68074685\n",
      "  0.41186237 0.5599951 ]]\n",
      "<class 'numpy.ndarray'>\n"
     ]
    }
   ],
   "metadata": {}
  },
  {
   "cell_type": "code",
   "execution_count": 35,
   "source": [
    "x = torch.ones(1)\r\n",
    "print(x)"
   ],
   "outputs": [
    {
     "output_type": "stream",
     "name": "stdout",
     "text": [
      "tensor([1.])\n"
     ]
    }
   ],
   "metadata": {}
  },
  {
   "cell_type": "code",
   "execution_count": 36,
   "source": [
    "# 값을 뽑아낼 때 item 사용. 예) loss값 직접 뽑아내고 싶을 때 사용\r\n",
    "x.item()\r\n"
   ],
   "outputs": [
    {
     "output_type": "execute_result",
     "data": {
      "text/plain": [
       "1.0"
      ]
     },
     "metadata": {},
     "execution_count": 36
    }
   ],
   "metadata": {}
  }
 ],
 "metadata": {
  "orig_nbformat": 4,
  "language_info": {
   "name": "python",
   "version": "3.8.5",
   "mimetype": "text/x-python",
   "codemirror_mode": {
    "name": "ipython",
    "version": 3
   },
   "pygments_lexer": "ipython3",
   "nbconvert_exporter": "python",
   "file_extension": ".py"
  },
  "kernelspec": {
   "name": "python3",
   "display_name": "Python 3.8.5 64-bit ('chch': conda)"
  },
  "interpreter": {
   "hash": "a64de8b745ab094eb3381810b1d090f0053b4977cc21c07d5a367fb401258f96"
  }
 },
 "nbformat": 4,
 "nbformat_minor": 2
}