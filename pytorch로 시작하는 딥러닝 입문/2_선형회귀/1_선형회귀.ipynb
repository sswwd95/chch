{
 "cells": [
  {
   "cell_type": "code",
   "execution_count": 13,
   "source": [
    "import torch\r\n",
    "import torch.nn as nn\r\n",
    "import torch.nn.functional as F\r\n",
    "import torch.optim as optim\r\n",
    "\r\n",
    "# 랜덤 시드 : torch.manual_seed()\r\n",
    "torch.manual_seed(1)\r\n",
    "\r\n",
    "# 변수 선언\r\n",
    "x_train = torch.FloatTensor([[1], [2], [3]])\r\n",
    "y_train = torch.FloatTensor([[2], [4], [6]])\r\n",
    "print(x_train)\r\n",
    "print(x_train.shape)\r\n",
    "print(y_train)\r\n",
    "print(y_train.shape)\r\n",
    "\r\n",
    "# 가중치와 편향의 초기화\r\n",
    "\r\n",
    "# 가중치 W를 0으로 초기화하고 학습을 통해 값이 변경되는 변수임을 명시함.\r\n",
    "W = torch.zeros(1, requires_grad=True) \r\n",
    "# 가중치 W를 출력\r\n",
    "print(W) \r\n",
    "\r\n",
    "b = torch.zeros(1, requires_grad=True)\r\n",
    "print(b)\r\n",
    "\r\n",
    "# 가설 세우기 \r\n",
    "hypothesis = x_train * W + b\r\n",
    "print(hypothesis)\r\n",
    "\r\n",
    "# 비용 함수 선언\r\n",
    "cost = torch.mean((hypothesis - y_train) ** 2) \r\n",
    "print(cost)\r\n",
    "\r\n",
    "# 경사 하강법 구현\r\n",
    "optimizer = optim.SGD([W, b], lr=0.01)\r\n",
    "\r\n",
    "# 미분을 통해 얻은 기울기를 0으로 초기화\r\n",
    "# 기울기를 초기화해야만 새로운 가중치 편향에 대해서 새로운 기울기를 구할 수 있다\r\n",
    "optimizer.zero_grad() \r\n",
    "\r\n",
    "# 가중치 W와 편향 b에 대한 gradient 계산\r\n",
    "cost.backward() \r\n",
    "\r\n",
    "# W와 b에서 리턴되는 변수들의 기울기에 학습률(learining rate) 0.01을 곱하여 빼줌으로서 업데이트\r\n",
    "optimizer.step() "
   ],
   "outputs": [
    {
     "output_type": "stream",
     "name": "stdout",
     "text": [
      "tensor([[1.],\n",
      "        [2.],\n",
      "        [3.]])\n",
      "torch.Size([3, 1])\n",
      "tensor([[2.],\n",
      "        [4.],\n",
      "        [6.]])\n",
      "torch.Size([3, 1])\n",
      "tensor([0.], requires_grad=True)\n",
      "tensor([0.], requires_grad=True)\n",
      "tensor([[0.],\n",
      "        [0.],\n",
      "        [0.]], grad_fn=<AddBackward0>)\n",
      "tensor(18.6667, grad_fn=<MeanBackward0>)\n"
     ]
    }
   ],
   "metadata": {}
  },
  {
   "cell_type": "code",
   "execution_count": 14,
   "source": [
    "# 데이터\r\n",
    "x_train = torch.FloatTensor([[1], [2], [3]])\r\n",
    "y_train = torch.FloatTensor([[2], [4], [6]])\r\n",
    "# 모델 초기화\r\n",
    "W = torch.zeros(1, requires_grad=True)\r\n",
    "b = torch.zeros(1, requires_grad=True)\r\n",
    "# optimizer 설정\r\n",
    "optimizer = optim.SGD([W, b], lr=0.01)\r\n",
    "\r\n",
    "nb_epochs = 100 # 원하는만큼 경사 하강법을 반복\r\n",
    "for epoch in range(nb_epochs + 1):\r\n",
    "\r\n",
    "    # H(x) 계산\r\n",
    "    hypothesis = x_train * W + b\r\n",
    "\r\n",
    "    # cost 계산\r\n",
    "    cost = torch.mean((hypothesis - y_train) ** 2)\r\n",
    "\r\n",
    "    # cost로 H(x) 개선\r\n",
    "    optimizer.zero_grad()\r\n",
    "    cost.backward()\r\n",
    "    optimizer.step()\r\n",
    "\r\n",
    "    # 100번마다 로그 출력\r\n",
    "    if epoch % 10 == 0:\r\n",
    "        print('Epoch {:4d}/{} W: {:.3f}, b: {:.3f} Cost: {:.6f}'.format(\r\n",
    "            epoch, nb_epochs, W.item(), b.item(), cost.item()\r\n",
    "        ))"
   ],
   "outputs": [
    {
     "output_type": "stream",
     "name": "stdout",
     "text": [
      "Epoch    0/100 W: 0.187, b: 0.080 Cost: 18.666666\n",
      "Epoch   10/100 W: 1.224, b: 0.516 Cost: 1.844294\n",
      "Epoch   20/100 W: 1.550, b: 0.638 Cost: 0.239337\n",
      "Epoch   30/100 W: 1.655, b: 0.665 Cost: 0.083519\n",
      "Epoch   40/100 W: 1.693, b: 0.662 Cost: 0.065829\n",
      "Epoch   50/100 W: 1.709, b: 0.650 Cost: 0.061424\n",
      "Epoch   60/100 W: 1.719, b: 0.636 Cost: 0.058413\n",
      "Epoch   70/100 W: 1.726, b: 0.621 Cost: 0.055656\n",
      "Epoch   80/100 W: 1.733, b: 0.607 Cost: 0.053039\n",
      "Epoch   90/100 W: 1.739, b: 0.592 Cost: 0.050546\n",
      "Epoch  100/100 W: 1.746, b: 0.578 Cost: 0.048171\n"
     ]
    }
   ],
   "metadata": {}
  },
  {
   "cell_type": "code",
   "execution_count": 17,
   "source": [
    "x = torch.tensor([[1]])\r\n",
    "print(x)\r\n",
    "print(x.item())\r\n",
    "\r\n",
    "x = torch.tensor(2.5)\r\n",
    "print(x)\r\n",
    "print(x.item())\r\n"
   ],
   "outputs": [
    {
     "output_type": "stream",
     "name": "stdout",
     "text": [
      "tensor([[1]])\n",
      "1\n",
      "tensor(2.5000)\n",
      "2.5\n"
     ]
    }
   ],
   "metadata": {}
  },
  {
   "cell_type": "code",
   "execution_count": 18,
   "source": [
    "# optimizer.zero_grad()가 필요한 이유\r\n",
    "# 파이토치는 미분을 통해 얻은 기울기를 이전에 계산된 기울기 값에 누적시키는 특징이 있다.\r\n",
    "\r\n",
    "import torch\r\n",
    "w = torch.tensor(2.0, requires_grad=True)\r\n",
    "\r\n",
    "nb_epochs = 20\r\n",
    "for epoch in range(nb_epochs + 1):\r\n",
    "\r\n",
    "  z = 2*w\r\n",
    "\r\n",
    "  z.backward() # 역전파, backward 함수를 쓰면 자동으로 미분이 계산된다\r\n",
    "  print('수식을 w로 미분한 값 : {}'.format(w.grad))\r\n"
   ],
   "outputs": [
    {
     "output_type": "stream",
     "name": "stdout",
     "text": [
      "수식을 w로 미분한 값 : 2.0\n",
      "수식을 w로 미분한 값 : 4.0\n",
      "수식을 w로 미분한 값 : 6.0\n",
      "수식을 w로 미분한 값 : 8.0\n",
      "수식을 w로 미분한 값 : 10.0\n",
      "수식을 w로 미분한 값 : 12.0\n",
      "수식을 w로 미분한 값 : 14.0\n",
      "수식을 w로 미분한 값 : 16.0\n",
      "수식을 w로 미분한 값 : 18.0\n",
      "수식을 w로 미분한 값 : 20.0\n",
      "수식을 w로 미분한 값 : 22.0\n",
      "수식을 w로 미분한 값 : 24.0\n",
      "수식을 w로 미분한 값 : 26.0\n",
      "수식을 w로 미분한 값 : 28.0\n",
      "수식을 w로 미분한 값 : 30.0\n",
      "수식을 w로 미분한 값 : 32.0\n",
      "수식을 w로 미분한 값 : 34.0\n",
      "수식을 w로 미분한 값 : 36.0\n",
      "수식을 w로 미분한 값 : 38.0\n",
      "수식을 w로 미분한 값 : 40.0\n",
      "수식을 w로 미분한 값 : 42.0\n"
     ]
    }
   ],
   "metadata": {}
  }
 ],
 "metadata": {
  "orig_nbformat": 4,
  "language_info": {
   "name": "python",
   "version": "3.8.5",
   "mimetype": "text/x-python",
   "codemirror_mode": {
    "name": "ipython",
    "version": 3
   },
   "pygments_lexer": "ipython3",
   "nbconvert_exporter": "python",
   "file_extension": ".py"
  },
  "kernelspec": {
   "name": "python3",
   "display_name": "Python 3.8.5 64-bit ('chch': conda)"
  },
  "interpreter": {
   "hash": "a64de8b745ab094eb3381810b1d090f0053b4977cc21c07d5a367fb401258f96"
  }
 },
 "nbformat": 4,
 "nbformat_minor": 2
}