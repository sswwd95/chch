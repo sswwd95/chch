{
 "cells": [
  {
   "cell_type": "code",
   "execution_count": 13,
   "source": [
    "# 자동 미분(Autograd)\r\n",
    "\r\n",
    "import torch\r\n",
    "w = torch.tensor(2.0, requires_grad=True)\r\n",
    "\r\n",
    "y = w**2\r\n",
    "print(y)\r\n",
    "z = 2*y + 5\r\n",
    "print(z)\r\n",
    "\r\n",
    "z.backward()\r\n",
    "\r\n",
    "\r\n",
    "print('수식을 w로 미분한 값 : {}'.format(w.grad))"
   ],
   "outputs": [
    {
     "output_type": "stream",
     "name": "stdout",
     "text": [
      "tensor(4., grad_fn=<PowBackward0>)\n",
      "tensor(13., grad_fn=<AddBackward0>)\n",
      "수식을 w로 미분한 값 : 8.0\n"
     ]
    }
   ],
   "metadata": {}
  }
 ],
 "metadata": {
  "orig_nbformat": 4,
  "language_info": {
   "name": "python",
   "version": "3.8.5",
   "mimetype": "text/x-python",
   "codemirror_mode": {
    "name": "ipython",
    "version": 3
   },
   "pygments_lexer": "ipython3",
   "nbconvert_exporter": "python",
   "file_extension": ".py"
  },
  "kernelspec": {
   "name": "python3",
   "display_name": "Python 3.8.5 64-bit ('chch': conda)"
  },
  "interpreter": {
   "hash": "a64de8b745ab094eb3381810b1d090f0053b4977cc21c07d5a367fb401258f96"
  }
 },
 "nbformat": 4,
 "nbformat_minor": 2
}