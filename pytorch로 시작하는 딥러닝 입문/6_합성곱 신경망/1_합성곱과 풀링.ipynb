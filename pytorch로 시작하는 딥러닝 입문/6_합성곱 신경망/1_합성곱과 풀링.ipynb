{
 "cells": [
  {
   "cell_type": "markdown",
   "source": [
    "# 01. 합성곱과 풀링(Convolution and Pooling)\r\n"
   ],
   "metadata": {}
  },
  {
   "cell_type": "markdown",
   "source": [
    " CONV는 합성곱 연산을 의미하고, 합성곱 연산의 결과가 활성화 함수 ReLU를 지난다. 이 두 과정을 합성곱층이라고 한다. 그 후에 POOL이라는 구간을 지나는데 이는 풀링 연산을 의미하며 풀링층이라고 한다."
   ],
   "metadata": {}
  },
  {
   "cell_type": "markdown",
   "source": [
    "## 1. 합성곱 신경망의 대두\r\n",
    "\r\n",
    "이미지의 공간적인 구조 정보를 보존하면서 학습할 수 있는 방법이 필요해졌고, 이를 위해 사용하는 것이 합성곱 신경망이다."
   ],
   "metadata": {}
  },
  {
   "cell_type": "markdown",
   "source": [
    "## 2. 채널(Channel) == 깊이(depth)\r\n",
    "* 이미지는 (높이, 너비, 채널)이라는 3차원 텐서\r\n",
    "* 높이는 이미지의 세로 방향 픽셀 수, 너비는 이미지의 가로 방향 픽셀 수, 채널은 색 성분을 의미\r\n",
    "* 흑백 이미지는 채널 수가 1이며, 각 픽셀은 0부터 255 사이의 값을 가진다.\r\n"
   ],
   "metadata": {}
  },
  {
   "cell_type": "markdown",
   "source": [
    "## 3. 합성곱 연산(Convolution operation)\r\n",
    "* 합성곱층은 합성곱 연산을 통해서 이미지의 특징을 추출하는 역할\r\n",
    "* 합성곱 : 커널 또는 필터라는 nxm크기의 행렬로 높이 x 너비 크기의 이미지를 처음부터 끝까지 겹치며 훑으면서 nxm크기의 겹쳐지는 부분의 각 이미지와 커널의 원소의 값을 곱해서 모두 더한 값을 출력으로 하는 것\r\n",
    "* 가장 왼쪽 위부터 가장 오른쪽까지 순차적으로 훑는다.\r\n",
    "* 합성곱 연산을 통해 나온 결과를 특성 맵이라고 한다. (feature map)\r\n",
    "* 커널의 이동 범위를 스트라이드(stride)라고 한다. "
   ],
   "metadata": {}
  },
  {
   "cell_type": "markdown",
   "source": [
    "## 4. 패딩(Padding)\r\n",
    "* 합성곱 연산의 결과로 얻은 특성 맵은 입력보다 크기가 작아진다는 특징이 있다.\r\n",
    "* 합성곱 연산 이후에도 특성 맵의 크기가 입력의 크기와 동일하게 유지되도록 하고 싶다면 패딩(padding)을 사용하면 된다.\r\n",
    "* 패딩 : (합성곱 연산을 하기 전에) 입력의 가장자리에 지정된 개수의 폭만큼 행과 열을 추가해주는 것, 주로 값을 0으로 채우는 제로 패딩(zero padding)을 사용"
   ],
   "metadata": {}
  },
  {
   "cell_type": "markdown",
   "source": [
    "## 5. 가중치와 편향\r\n",
    "* 합성곱 신경망은 다층 퍼셉트론을 사용할 때보다 훨씬 적은 수의 가중치를 사용하며 공간적 구조 정보를 보존한다는 특징이 있다.   \r\n",
    "  -> 각 합성곱 연산마다 이미지의 모든 픽셀을 사용하는 것이 아니라, 커널과 맵핑되는 픽셀만을 입력으로 사용하기 때문\r\n",
    "* 만약, 편향을 사용한다면 커널을 적용한 뒤에 더해진다. 편향은 하나의 값만 존재하며, 커널이 적용된 결과의 모든 원소에 더해진다.\r\n",
    "  \r\n",
    "  \r\n",
    "  <img src=\"https://wikidocs.net/images/page/64066/conv14.png\" width=\"300\" height=\"200\"> "
   ],
   "metadata": {}
  },
  {
   "cell_type": "markdown",
   "source": [
    "## 6. 특성 맵의 크기 계산 \r\n",
    "입력의 크기와 커널의 크기, 그리고 스트라이드의 값만 알면 합성곱 연산의 결과인 특성 맵의 크기를 계산할 수 있다.\r\n",
    "\r\n",
    "특성 맵의 높이와 너비는 다음과 같다.\r\n",
    "  \r\n",
    "  \r\n",
    "$O_{h} = floor(\\frac{I_{h} - K_{h}}{S}+1)$\r\n",
    "    -> 소수점 이하버려(입력 높이 - 커널 높이/스트라이드 + 1)\r\n",
    "  \r\n",
    "$O_{w} = floor(\\frac{I_{w} - K_{w}}{S}+1)$\r\n",
    "-> 소수점 이하버려(입력 너비 - 커널 너비/스트라이드 + 1)\r\n",
    "\r\n",
    "예제) 5 x 5크기 이미지에 3x3 커널 사용, 스트라이드는 1  \r\n",
    "->특성 맵 크기 :  (5 - 3 + 1 ) × (5 - 3 + 1) = 3 × 3\r\n",
    "  \r\n",
    "* 패딩의 폭을 P라고 하고 패딩까지 고려한 식\r\n",
    "  \r\n",
    "  \r\n",
    "    $O_{h} = floor(\\frac{I_{h} - K_{h} + 2P}{S}+1)$\r\n",
    "      \r\n",
    "    $O_{w} = floor(\\frac{I_{w} - K_{w} + 2P}{S}+1)$"
   ],
   "metadata": {}
  },
  {
   "cell_type": "markdown",
   "source": [
    "## 7. 다수의 채널을 가질 경우의 합성곱 연산(3차원 텐서의 합성곱 연산)\r\n",
    "다수의 채널을 가진 입력 데이터를 가지고 합성곱 연산을 한다고 하면 커널(필터)의 채널 수도 입력의 채널 수만큼 존재해야 합니다. 다시 말해 입력 데이터의 채널 수와 커널의 채널 수는 같아야 합니다. 채널 수가 같으므로 합성곱 연산을 채널마다 수행합니다. 그리고 그 결과를 모두 더하여 최종 특성 맵을 얻습니다.\r\n",
    "\r\n",
    "  <img src=\"https://wikidocs.net/images/page/64066/conv15.png\" width=\"400\" height=\"200\"> "
   ],
   "metadata": {}
  },
  {
   "cell_type": "markdown",
   "source": [
    "## 8. 3차원 텐서의 합성곱 연산\r\n",
    "합성곱 연산에서 다수의 커널을 사용할 경우, 사용한 커널 수는 합성곱 연산의 결과로 나오는 특성 맵의 채널 수가 된다."
   ],
   "metadata": {}
  },
  {
   "cell_type": "markdown",
   "source": [
    "## 9. 풀링(Pooling)\r\n",
    "* 일반적으로 합성곱 층(합성곱 연산 + 활성화 함수) 다음에는 풀링 층을 추가하는 것이 일반적\r\n",
    "* 일반적으로 최대 풀링(max pooling)과 평균 풀링(average pooling)이 사용\r\n",
    "* 맥스 풀링은 커널과 겹치는 영역 안에서 최대값을 추출하는 방식으로 다운샘플링\r\n",
    "* 평균 풀링은 최대값을 추출하는 것이 아니라 평균값을 추출하는 연산\r\n",
    "* 풀링 연산은 커널과 스트라이드 개념이 존재한다는 점에서 합성곱 연산과 유사하지만, 합성곱 연산과의 차이점은 학습해야 할 가중치가 없으며 연산 후에 채널 수가 변하지 않는다는 점입니다.\r\n",
    "* 풀링을 사용하면, 특성 맵의 크기가 줄어드므로 특성 맵의 가중치의 개수를 줄여줍니다."
   ],
   "metadata": {}
  },
  {
   "cell_type": "markdown",
   "source": [],
   "metadata": {}
  },
  {
   "cell_type": "code",
   "execution_count": null,
   "source": [],
   "outputs": [],
   "metadata": {}
  }
 ],
 "metadata": {
  "orig_nbformat": 4,
  "language_info": {
   "name": "python",
   "version": "3.8.5",
   "mimetype": "text/x-python",
   "codemirror_mode": {
    "name": "ipython",
    "version": 3
   },
   "pygments_lexer": "ipython3",
   "nbconvert_exporter": "python",
   "file_extension": ".py"
  },
  "kernelspec": {
   "name": "python3",
   "display_name": "Python 3.8.5 64-bit ('chch': conda)"
  },
  "interpreter": {
   "hash": "a64de8b745ab094eb3381810b1d090f0053b4977cc21c07d5a367fb401258f96"
  }
 },
 "nbformat": 4,
 "nbformat_minor": 2
}