{
 "cells": [
  {
   "cell_type": "markdown",
   "source": [
    "# 02. CNN으로 MNIST 분류하기\r\n",
    "\r\n",
    "## 1. 모델 이해하기\r\n",
    "### 1. 첫번째 표기 방법\r\n",
    "합성곱(nn.Cov2d) + 활성화 함수(nn.ReLU)를 하나의 합성곱 층으로 보고, 맥스풀링(nn.MaxPoold2d)은 풀링 층으로 별도로 명명합니다.\r\n",
    "### 2. 두번째 표기 방법\r\n",
    "합성곱(nn.Conv2d) + 활성화 함수(nn.ReLU) + 맥스풀링(nn.MaxPoold2d)을 하나의 합성곱 층으로 봅니다."
   ],
   "metadata": {}
  },
  {
   "cell_type": "markdown",
   "source": [
    "**1번 레이어 : 합성곱층(Convolutional layer)**\r\n",
    "  \r\n",
    "  \r\n",
    "합성곱(in_channel = 1, out_channel = 32, kernel_size=3, stride=1, padding=1) + 활성화 함수 ReLU\r\n",
    "  \r\n",
    "  \r\n",
    "맥스풀링(kernel_size=2, stride=2))\r\n",
    "\r\n",
    "**2번 레이어 : 합성곱층(Convolutional layer)**  \r\n",
    "\r\n",
    "합성곱(in_channel = 32, out_channel = 64, kernel_size=3, stride=1, padding=1) + 활성화 함수 ReLU  \r\n",
    "\r\n",
    "맥스풀링(kernel_size=2, stride=2))\r\n",
    "\r\n",
    "**3번 레이어 : 전결합층(Fully-Connected layer)**  \r\n",
    "\r\n",
    "특성맵을 펼친다. # batch_size × 7 × 7 × 64 → batch_size × 3136  \r\n",
    "\r\n",
    "전결합층(뉴런 10개) + 활성화 함수 Softmax"
   ],
   "metadata": {}
  },
  {
   "cell_type": "markdown",
   "source": [
    "## 2. 모델 구현하기"
   ],
   "metadata": {}
  },
  {
   "cell_type": "code",
   "execution_count": 33,
   "source": [
    "import torch\r\n",
    "import torch.nn as nn\r\n",
    "\r\n",
    "# 배치 크기 × 채널 × 높이(height) × 너비(widht)의 크기의 텐서를 선언\r\n",
    "inputs = torch.Tensor(1, 1, 28, 28)\r\n",
    "print('텐서의 크기 : {}'.format(inputs.shape))\r\n",
    "\r\n",
    "conv1 = nn.Conv2d(1, 32, 3, padding=1) \r\n",
    "# 1채널 짜리를 입력받아서 32채널을 뽑아내는데 커널 사이즈는 3이고 패딩은 1입니다.\r\n",
    "print(conv1)\r\n",
    "\r\n",
    "conv2 = nn.Conv2d(32, 64, kernel_size=3, padding=1)\r\n",
    "# 32채널 짜리를 입력받아서 64채널을 뽑아내는데 커널 사이즈는 3이고 패딩은 1입니다.\r\n",
    "print(conv2)\r\n",
    "\r\n",
    "pool = nn.MaxPool2d(2)\r\n",
    "# 정수 하나를 인자로 넣으면 커널 사이즈와 스트라이드가 둘 다 해당값으로 지정\r\n",
    "print(pool)"
   ],
   "outputs": [
    {
     "output_type": "stream",
     "name": "stdout",
     "text": [
      "텐서의 크기 : torch.Size([1, 1, 28, 28])\n",
      "Conv2d(1, 32, kernel_size=(3, 3), stride=(1, 1), padding=(1, 1))\n",
      "Conv2d(32, 64, kernel_size=(3, 3), stride=(1, 1), padding=(1, 1))\n",
      "MaxPool2d(kernel_size=2, stride=2, padding=0, dilation=1, ceil_mode=False)\n"
     ]
    }
   ],
   "metadata": {}
  },
  {
   "cell_type": "markdown",
   "source": [
    "## 3. 구현체를 연결하여 모델 만들기"
   ],
   "metadata": {}
  },
  {
   "cell_type": "code",
   "execution_count": 34,
   "source": [
    "out = conv1(inputs)\r\n",
    "# print(out)\r\n",
    "print(out.shape)\r\n",
    "\r\n",
    "out = pool(out)\r\n",
    "print(out.shape)\r\n",
    "\r\n",
    "out = conv2(out)\r\n",
    "print(out.shape)\r\n",
    "\r\n",
    "out = pool(out)\r\n",
    "print(out.shape)\r\n",
    "\r\n",
    "out.size(0)"
   ],
   "outputs": [
    {
     "output_type": "stream",
     "name": "stdout",
     "text": [
      "torch.Size([1, 32, 28, 28])\n",
      "torch.Size([1, 32, 14, 14])\n",
      "torch.Size([1, 64, 14, 14])\n",
      "torch.Size([1, 64, 7, 7])\n"
     ]
    },
    {
     "output_type": "execute_result",
     "data": {
      "text/plain": [
       "1"
      ]
     },
     "metadata": {},
     "execution_count": 34
    }
   ],
   "metadata": {}
  },
  {
   "cell_type": "code",
   "execution_count": 35,
   "source": [
    "# tensor를 펼치는 작업\r\n",
    "out = out.view(out.size(0), -1) \r\n",
    "print(out.shape)\r\n",
    "\r\n",
    "fc = nn.Linear(3136, 10) # input_dim = 3,136, output_dim = 10\r\n",
    "\r\n",
    "# 출력층으로 10개의 뉴런을 배치하여 10개 차원의 텐서로 변환합니다.\r\n",
    "out = fc(out)\r\n",
    "print(out.shape)"
   ],
   "outputs": [
    {
     "output_type": "stream",
     "name": "stdout",
     "text": [
      "torch.Size([1, 3136])\n",
      "torch.Size([1, 10])\n"
     ]
    }
   ],
   "metadata": {}
  },
  {
   "cell_type": "markdown",
   "source": [
    "## 3. CNN으로 MNIST 분류하기"
   ],
   "metadata": {}
  },
  {
   "cell_type": "code",
   "execution_count": 36,
   "source": [
    "import torch\r\n",
    "import torchvision.datasets as dsets\r\n",
    "import torchvision.transforms as transforms\r\n",
    "import torch.nn.init\r\n",
    "\r\n",
    "device = 'cuda' if torch.cuda.is_available() else 'cpu'\r\n",
    "\r\n",
    "# 랜덤 시드 고정\r\n",
    "torch.manual_seed(777)\r\n",
    "\r\n",
    "# GPU 사용 가능일 경우 랜덤 시드 고정\r\n",
    "if device == 'cuda':\r\n",
    "    torch.cuda.manual_seed_all(777)\r\n",
    "\r\n",
    "\r\n",
    "learning_rate = 0.001\r\n",
    "training_epochs = 15\r\n",
    "batch_size = 100 # 기본값 =1\r\n",
    "\r\n",
    "mnist_train = dsets.MNIST(root='MNIST_data/', # 다운로드 경로 지정\r\n",
    "                          train=True, # True를 지정하면 훈련 데이터로 다운로드\r\n",
    "                          transform=transforms.ToTensor(), # 텐서로 변환\r\n",
    "                          download=True)\r\n",
    "\r\n",
    "mnist_test = dsets.MNIST(root='MNIST_data/', # 다운로드 경로 지정\r\n",
    "                         train=False, # False를 지정하면 테스트 데이터로 다운로드\r\n",
    "                         transform=transforms.ToTensor(), # 텐서로 변환\r\n",
    "                         download=True)\r\n",
    "\r\n",
    "# data_loader = torch.utils.data.DataLoader(dataset=mnist_train,\r\n",
    "#                                           batch_size=batch_size,\r\n",
    "#                                           shuffle=True,\r\n",
    "#                                           drop_last=False)\r\n",
    "\r\n",
    "# print(len(data_loader))\r\n",
    "# 배치사이즈 33으로 하면 drop_last=False -> 1819\r\n",
    "\r\n",
    "data_loader = torch.utils.data.DataLoader(dataset=mnist_train,\r\n",
    "                                          batch_size=batch_size,\r\n",
    "                                          shuffle=True,\r\n",
    "                                          drop_last=True)\r\n",
    "\r\n",
    "print(len(data_loader)) \r\n",
    "# 배치사이즈 33으로 하면 drop_last=True ->1818"
   ],
   "outputs": [
    {
     "output_type": "stream",
     "name": "stdout",
     "text": [
      "600\n"
     ]
    }
   ],
   "metadata": {}
  },
  {
   "cell_type": "code",
   "execution_count": 37,
   "source": [
    "class CNN(torch.nn.Module):\r\n",
    "    \r\n",
    "    def __init__(self):\r\n",
    "        super(CNN, self).__init__()\r\n",
    "        # 첫번째층\r\n",
    "        # ImgIn shape=(?, 28, 28, 1)\r\n",
    "        #    Conv     -> (?, 28, 28, 32)\r\n",
    "        #    Pool     -> (?, 14, 14, 32)\r\n",
    "        self.layer1 = torch.nn.Sequential(\r\n",
    "            torch.nn.Conv2d(1, 32, kernel_size=3, stride=1, padding=1),\r\n",
    "            torch.nn.ReLU(),\r\n",
    "            torch.nn.MaxPool2d(kernel_size=2, stride=2))\r\n",
    "\r\n",
    "        # 두번째층\r\n",
    "        # ImgIn shape=(?, 14, 14, 32)\r\n",
    "        #    Conv      ->(?, 14, 14, 64)\r\n",
    "        #    Pool      ->(?, 7, 7, 64)\r\n",
    "        self.layer2 = torch.nn.Sequential(\r\n",
    "            torch.nn.Conv2d(32, 64, kernel_size=3, stride=1, padding=1),\r\n",
    "            torch.nn.ReLU(),\r\n",
    "            torch.nn.MaxPool2d(kernel_size=2, stride=2))\r\n",
    "\r\n",
    "        # 전결합층 7x7x64 inputs -> 10 outputs\r\n",
    "        self.fc = torch.nn.Linear(7 * 7 * 64, 10, bias=True)\r\n",
    "\r\n",
    "        # 전결합층 한정으로 가중치 초기화\r\n",
    "        torch.nn.init.xavier_uniform_(self.fc.weight)\r\n",
    "\r\n",
    "    def forward(self, x):\r\n",
    "        out = self.layer1(x)\r\n",
    "        out = self.layer2(out)\r\n",
    "        out = out.view(out.size(0), -1)   # 전결합층을 위해서 Flatten\r\n",
    "        out = self.fc(out)\r\n",
    "        return out"
   ],
   "outputs": [],
   "metadata": {}
  },
  {
   "cell_type": "code",
   "execution_count": 38,
   "source": [
    "class CNN2(torch.nn.Module):\r\n",
    "    \r\n",
    "    def __init__(self):\r\n",
    "        super(CNN2, self).__init__()\r\n",
    "        # 첫번째층\r\n",
    "        # ImgIn shape=(?, 28, 28, 1)\r\n",
    "        #    Conv     -> (?, 28, 28, 32)\r\n",
    "        #    Pool     -> (?, 14, 14, 32)\r\n",
    "        self.layer1 = torch.nn.Sequential(\r\n",
    "            torch.nn.Conv2d(1, 32, kernel_size=3, stride=1, padding=1),\r\n",
    "            torch.nn.ReLU(),\r\n",
    "            torch.nn.MaxPool2d(kernel_size=2, stride=2))\r\n",
    "\r\n",
    "        # 두번째층\r\n",
    "        # ImgIn shape=(?, 14, 14, 32)\r\n",
    "        #    Conv      ->(?, 14, 14, 64)\r\n",
    "        #    Pool      ->(?, 7, 7, 64)\r\n",
    "        self.layer2 = torch.nn.Sequential(\r\n",
    "            torch.nn.Conv2d(32, 64, kernel_size=3, stride=1, padding=1),\r\n",
    "            torch.nn.kaiming_uniform_(m.weight.data,nonlinearity='relu'),\r\n",
    "            # torch.nn.ReLU(),\r\n",
    "            torch.nn.MaxPool2d(kernel_size=2, stride=2))\r\n",
    "\r\n",
    "        # 전결합층 7x7x64 inputs -> 10 outputs\r\n",
    "        # self.fc = torch.nn.Linear(7 * 7 * 64, 10, bias=True)\r\n",
    "        self.fc = torch.nn.Linear(7 * 7 * 64, 10, bias=True)\r\n",
    "        torch.nn.init.xavier_uniform_(self.fc.weight)\r\n",
    "        # torch.nn.init.kaiming_uniform_(self.fc.weight, nonlinearity='relu')\r\n",
    "\r\n",
    "\r\n",
    "        # 전결합층 한정으로 가중치 초기화\r\n",
    "        # torch.nn.init.xavier_uniform_(self.fc.weight)\r\n",
    "        # torch.nn.init.kaiming_uniform_(self.fc.weight, nonlinearity='relu')\r\n",
    "\r\n",
    "    def forward(self, x):\r\n",
    "        out = self.layer1(x)\r\n",
    "        out = self.layer2(out)\r\n",
    "        out = out.view(out.size(0), -1)   # 전결합층을 위해서 Flatten\r\n",
    "        out = self.fc(out)\r\n",
    "        return out"
   ],
   "outputs": [],
   "metadata": {}
  },
  {
   "cell_type": "code",
   "execution_count": 39,
   "source": [
    "model = CNN().to(device)\r\n",
    "model2 = CNN2().to(device)\r\n",
    "\r\n",
    "criterion = torch.nn.CrossEntropyLoss().to(device)    # 비용 함수에 소프트맥스 함수 포함되어져 있음.\r\n",
    "optimizer = torch.optim.Adam(model.parameters(), lr=learning_rate)\r\n",
    "\r\n",
    "total_batch = len(data_loader)\r\n",
    "print('총 배치의 수 : {}'.format(total_batch))"
   ],
   "outputs": [
    {
     "output_type": "error",
     "ename": "AttributeError",
     "evalue": "'Sequential' object has no attribute 'weight'",
     "traceback": [
      "\u001b[1;31m---------------------------------------------------------------------------\u001b[0m",
      "\u001b[1;31mAttributeError\u001b[0m                            Traceback (most recent call last)",
      "\u001b[1;32m<ipython-input-39-aede08993cfe>\u001b[0m in \u001b[0;36m<module>\u001b[1;34m\u001b[0m\n\u001b[0;32m      1\u001b[0m \u001b[0mmodel\u001b[0m \u001b[1;33m=\u001b[0m \u001b[0mCNN\u001b[0m\u001b[1;33m(\u001b[0m\u001b[1;33m)\u001b[0m\u001b[1;33m.\u001b[0m\u001b[0mto\u001b[0m\u001b[1;33m(\u001b[0m\u001b[0mdevice\u001b[0m\u001b[1;33m)\u001b[0m\u001b[1;33m\u001b[0m\u001b[1;33m\u001b[0m\u001b[0m\n\u001b[1;32m----> 2\u001b[1;33m \u001b[0mmodel2\u001b[0m \u001b[1;33m=\u001b[0m \u001b[0mCNN2\u001b[0m\u001b[1;33m(\u001b[0m\u001b[1;33m)\u001b[0m\u001b[1;33m.\u001b[0m\u001b[0mto\u001b[0m\u001b[1;33m(\u001b[0m\u001b[0mdevice\u001b[0m\u001b[1;33m)\u001b[0m\u001b[1;33m\u001b[0m\u001b[1;33m\u001b[0m\u001b[0m\n\u001b[0m\u001b[0;32m      3\u001b[0m \u001b[1;33m\u001b[0m\u001b[0m\n\u001b[0;32m      4\u001b[0m \u001b[0mcriterion\u001b[0m \u001b[1;33m=\u001b[0m \u001b[0mtorch\u001b[0m\u001b[1;33m.\u001b[0m\u001b[0mnn\u001b[0m\u001b[1;33m.\u001b[0m\u001b[0mCrossEntropyLoss\u001b[0m\u001b[1;33m(\u001b[0m\u001b[1;33m)\u001b[0m\u001b[1;33m.\u001b[0m\u001b[0mto\u001b[0m\u001b[1;33m(\u001b[0m\u001b[0mdevice\u001b[0m\u001b[1;33m)\u001b[0m    \u001b[1;31m# 비용 함수에 소프트맥스 함수 포함되어져 있음.\u001b[0m\u001b[1;33m\u001b[0m\u001b[1;33m\u001b[0m\u001b[0m\n\u001b[0;32m      5\u001b[0m \u001b[0moptimizer\u001b[0m \u001b[1;33m=\u001b[0m \u001b[0mtorch\u001b[0m\u001b[1;33m.\u001b[0m\u001b[0moptim\u001b[0m\u001b[1;33m.\u001b[0m\u001b[0mAdam\u001b[0m\u001b[1;33m(\u001b[0m\u001b[0mmodel\u001b[0m\u001b[1;33m.\u001b[0m\u001b[0mparameters\u001b[0m\u001b[1;33m(\u001b[0m\u001b[1;33m)\u001b[0m\u001b[1;33m,\u001b[0m \u001b[0mlr\u001b[0m\u001b[1;33m=\u001b[0m\u001b[0mlearning_rate\u001b[0m\u001b[1;33m)\u001b[0m\u001b[1;33m\u001b[0m\u001b[1;33m\u001b[0m\u001b[0m\n",
      "\u001b[1;32m<ipython-input-38-97c0b26331b3>\u001b[0m in \u001b[0;36m__init__\u001b[1;34m(self)\u001b[0m\n\u001b[0;32m     27\u001b[0m             \u001b[0mtorch\u001b[0m\u001b[1;33m.\u001b[0m\u001b[0mnn\u001b[0m\u001b[1;33m.\u001b[0m\u001b[0mReLU\u001b[0m\u001b[1;33m(\u001b[0m\u001b[1;33m)\u001b[0m\u001b[1;33m\u001b[0m\u001b[1;33m\u001b[0m\u001b[0m\n\u001b[0;32m     28\u001b[0m         )\n\u001b[1;32m---> 29\u001b[1;33m         \u001b[0mtorch\u001b[0m\u001b[1;33m.\u001b[0m\u001b[0mnn\u001b[0m\u001b[1;33m.\u001b[0m\u001b[0minit\u001b[0m\u001b[1;33m.\u001b[0m\u001b[0mxavier_uniform_\u001b[0m\u001b[1;33m(\u001b[0m\u001b[0mself\u001b[0m\u001b[1;33m.\u001b[0m\u001b[0mfc\u001b[0m\u001b[1;33m.\u001b[0m\u001b[0mweight\u001b[0m\u001b[1;33m)\u001b[0m\u001b[1;33m\u001b[0m\u001b[1;33m\u001b[0m\u001b[0m\n\u001b[0m\u001b[0;32m     30\u001b[0m         \u001b[1;31m# torch.nn.init.kaiming_uniform_(self.fc.weight, nonlinearity='relu')\u001b[0m\u001b[1;33m\u001b[0m\u001b[1;33m\u001b[0m\u001b[1;33m\u001b[0m\u001b[0m\n\u001b[0;32m     31\u001b[0m \u001b[1;33m\u001b[0m\u001b[0m\n",
      "\u001b[1;32m~\\anaconda3\\envs\\chch\\lib\\site-packages\\torch\\nn\\modules\\module.py\u001b[0m in \u001b[0;36m__getattr__\u001b[1;34m(self, name)\u001b[0m\n\u001b[0;32m   1128\u001b[0m             \u001b[1;32mif\u001b[0m \u001b[0mname\u001b[0m \u001b[1;32min\u001b[0m \u001b[0mmodules\u001b[0m\u001b[1;33m:\u001b[0m\u001b[1;33m\u001b[0m\u001b[1;33m\u001b[0m\u001b[0m\n\u001b[0;32m   1129\u001b[0m                 \u001b[1;32mreturn\u001b[0m \u001b[0mmodules\u001b[0m\u001b[1;33m[\u001b[0m\u001b[0mname\u001b[0m\u001b[1;33m]\u001b[0m\u001b[1;33m\u001b[0m\u001b[1;33m\u001b[0m\u001b[0m\n\u001b[1;32m-> 1130\u001b[1;33m         raise AttributeError(\"'{}' object has no attribute '{}'\".format(\n\u001b[0m\u001b[0;32m   1131\u001b[0m             type(self).__name__, name))\n\u001b[0;32m   1132\u001b[0m \u001b[1;33m\u001b[0m\u001b[0m\n",
      "\u001b[1;31mAttributeError\u001b[0m: 'Sequential' object has no attribute 'weight'"
     ]
    }
   ],
   "metadata": {}
  },
  {
   "cell_type": "code",
   "execution_count": null,
   "source": [
    "for epoch in range(training_epochs):\r\n",
    "    avg_cost = 0\r\n",
    "\r\n",
    "    for X, Y in data_loader: # 미니 배치 단위로 꺼내온다. X는 미니 배치, Y는레이블.\r\n",
    "        # image is already size of (28x28), no reshape\r\n",
    "        # label is not one-hot encoded\r\n",
    "        X = X.to(device)\r\n",
    "        Y = Y.to(device)\r\n",
    "\r\n",
    "        optimizer.zero_grad()\r\n",
    "        hypothesis = model2(X)\r\n",
    "        cost = criterion(hypothesis, Y)\r\n",
    "        cost.backward()\r\n",
    "        optimizer.step()\r\n",
    "\r\n",
    "        avg_cost += cost / total_batch\r\n",
    "\r\n",
    "    print('[Epoch: {:>4}] cost = {:>.9}'.format(epoch + 1, avg_cost))"
   ],
   "outputs": [
    {
     "output_type": "stream",
     "name": "stdout",
     "text": [
      "[Epoch:    1] cost = 2.30485153\n",
      "[Epoch:    2] cost = 2.30485058\n",
      "[Epoch:    3] cost = 2.30484915\n",
      "[Epoch:    4] cost = 2.30484772\n",
      "[Epoch:    5] cost = 2.30484843\n",
      "[Epoch:    6] cost = 2.30484891\n",
      "[Epoch:    7] cost = 2.30484867\n",
      "[Epoch:    8] cost = 2.30484986\n",
      "[Epoch:    9] cost = 2.30484843\n",
      "[Epoch:   10] cost = 2.30484962\n",
      "[Epoch:   11] cost = 2.30484939\n",
      "[Epoch:   12] cost = 2.30484867\n",
      "[Epoch:   13] cost = 2.304847\n",
      "[Epoch:   14] cost = 2.30484796\n",
      "[Epoch:   15] cost = 2.30484986\n"
     ]
    }
   ],
   "metadata": {}
  },
  {
   "cell_type": "code",
   "execution_count": null,
   "source": [
    "for epoch in range(training_epochs):\r\n",
    "    avg_cost = 0\r\n",
    "\r\n",
    "    for X, Y in data_loader: # 미니 배치 단위로 꺼내온다. X는 미니 배치, Y는레이블.\r\n",
    "        # image is already size of (28x28), no reshape\r\n",
    "        # label is not one-hot encoded\r\n",
    "        X = X.to(device)\r\n",
    "        Y = Y.to(device)\r\n",
    "\r\n",
    "        optimizer.zero_grad()\r\n",
    "        hypothesis = model(X)\r\n",
    "        cost = criterion(hypothesis, Y)\r\n",
    "        cost.backward()\r\n",
    "        optimizer.step()\r\n",
    "\r\n",
    "        avg_cost += cost / total_batch\r\n",
    "\r\n",
    "    print('[Epoch: {:>4}] cost = {:>.9}'.format(epoch + 1, avg_cost))"
   ],
   "outputs": [
    {
     "output_type": "stream",
     "name": "stdout",
     "text": [
      "[Epoch:    1] cost = 0.222106665\n",
      "[Epoch:    2] cost = 0.0622419901\n",
      "[Epoch:    3] cost = 0.0461421311\n",
      "[Epoch:    4] cost = 0.0370009765\n",
      "[Epoch:    5] cost = 0.031052107\n",
      "[Epoch:    6] cost = 0.0246548634\n",
      "[Epoch:    7] cost = 0.0214401335\n",
      "[Epoch:    8] cost = 0.0178410169\n",
      "[Epoch:    9] cost = 0.0155191533\n",
      "[Epoch:   10] cost = 0.0120532298\n",
      "[Epoch:   11] cost = 0.010883159\n",
      "[Epoch:   12] cost = 0.00931617245\n",
      "[Epoch:   13] cost = 0.00721315155\n",
      "[Epoch:   14] cost = 0.00780110247\n",
      "[Epoch:   15] cost = 0.00647758227\n"
     ]
    }
   ],
   "metadata": {}
  },
  {
   "cell_type": "code",
   "execution_count": null,
   "source": [
    "# 학습을 진행하지 않을 것이므로 torch.no_grad()\r\n",
    "with torch.no_grad():\r\n",
    "    X_test = mnist_test.test_data.view(len(mnist_test), 1, 28, 28).float().to(device)\r\n",
    "    Y_test = mnist_test.test_labels.to(device)\r\n",
    "\r\n",
    "    prediction = model(X_test)\r\n",
    "    correct_prediction = torch.argmax(prediction, 1) == Y_test\r\n",
    "    accuracy = correct_prediction.float().mean()\r\n",
    "    print('Accuracy:', accuracy.item())\r\n",
    "\r\n",
    "with torch.no_grad():\r\n",
    "    X_test = mnist_test.test_data.view(len(mnist_test), 1, 28, 28).float().to(device)\r\n",
    "    Y_test = mnist_test.test_labels.to(device)\r\n",
    "\r\n",
    "    prediction = model2(X_test)\r\n",
    "    correct_prediction = torch.argmax(prediction, 1) == Y_test\r\n",
    "    accuracy = correct_prediction.float().mean()\r\n",
    "    print('he_Accuracy:', accuracy.item())"
   ],
   "outputs": [
    {
     "output_type": "stream",
     "name": "stdout",
     "text": [
      "Accuracy: 0.9863999485969543\n",
      "he_Accuracy: 0.08879999816417694\n"
     ]
    },
    {
     "output_type": "stream",
     "name": "stderr",
     "text": [
      "C:\\Users\\sswwd\\anaconda3\\envs\\chch\\lib\\site-packages\\torchvision\\datasets\\mnist.py:67: UserWarning: test_data has been renamed data\n",
      "  warnings.warn(\"test_data has been renamed data\")\n",
      "C:\\Users\\sswwd\\anaconda3\\envs\\chch\\lib\\site-packages\\torchvision\\datasets\\mnist.py:57: UserWarning: test_labels has been renamed targets\n",
      "  warnings.warn(\"test_labels has been renamed targets\")\n"
     ]
    }
   ],
   "metadata": {}
  }
 ],
 "metadata": {
  "orig_nbformat": 4,
  "language_info": {
   "name": "python",
   "version": "3.8.5",
   "mimetype": "text/x-python",
   "codemirror_mode": {
    "name": "ipython",
    "version": 3
   },
   "pygments_lexer": "ipython3",
   "nbconvert_exporter": "python",
   "file_extension": ".py"
  },
  "kernelspec": {
   "name": "python3",
   "display_name": "Python 3.8.5 64-bit ('chch': conda)"
  },
  "interpreter": {
   "hash": "a64de8b745ab094eb3381810b1d090f0053b4977cc21c07d5a367fb401258f96"
  }
 },
 "nbformat": 4,
 "nbformat_minor": 2
}