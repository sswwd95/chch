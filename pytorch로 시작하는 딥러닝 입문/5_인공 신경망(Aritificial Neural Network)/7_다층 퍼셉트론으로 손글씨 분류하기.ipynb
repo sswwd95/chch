{
 "cells": [
  {
   "cell_type": "markdown",
   "source": [
    "# 1. 숫자 필기 데이터 소개\r\n",
    "\r\n",
    "숫자 필기 데이터는 사이킷런 패키지에서 제공하는 분류용 예제 데이터입니다. 0부터 9까지의 숫자를 손으로 쓴 이미지 데이터로 load_digits() 명령으로 로드할 수 있습니다. 각 이미지는 0부터 15까지의 명암을 가지는 8 × 8 = 64 픽셀 해상도의 흑백 이미지입니다. 그리고 해당 이미지가 1,797개가 있습니다."
   ],
   "metadata": {}
  },
  {
   "cell_type": "code",
   "execution_count": 11,
   "source": [
    "%matplotlib inline\r\n",
    "!pip install sklearn\r\n"
   ],
   "outputs": [
    {
     "output_type": "stream",
     "name": "stdout",
     "text": [
      "Requirement already satisfied: sklearn in c:\\users\\sswwd\\anaconda3\\envs\\chch\\lib\\site-packages (0.0)\n",
      "Requirement already satisfied: scikit-learn in c:\\users\\sswwd\\anaconda3\\envs\\chch\\lib\\site-packages (from sklearn) (0.24.2)\n",
      "Requirement already satisfied: joblib>=0.11 in c:\\users\\sswwd\\anaconda3\\envs\\chch\\lib\\site-packages (from scikit-learn->sklearn) (1.0.1)\n",
      "Requirement already satisfied: scipy>=0.19.1 in c:\\users\\sswwd\\anaconda3\\envs\\chch\\lib\\site-packages (from scikit-learn->sklearn) (1.7.1)\n",
      "Requirement already satisfied: threadpoolctl>=2.0.0 in c:\\users\\sswwd\\anaconda3\\envs\\chch\\lib\\site-packages (from scikit-learn->sklearn) (2.2.0)\n",
      "Requirement already satisfied: numpy>=1.13.3 in c:\\users\\sswwd\\anaconda3\\envs\\chch\\lib\\site-packages (from scikit-learn->sklearn) (1.21.1)\n"
     ]
    }
   ],
   "metadata": {}
  },
  {
   "cell_type": "code",
   "execution_count": 12,
   "source": [
    "import matplotlib.pyplot as plt # 시각화를 위한 맷플롯립\r\n",
    "from sklearn.datasets import load_digits\r\n",
    "digits = load_digits() # 1,979개의 이미지 데이터 로드"
   ],
   "outputs": [],
   "metadata": {}
  },
  {
   "cell_type": "code",
   "execution_count": 13,
   "source": [
    "print(digits.images[0])"
   ],
   "outputs": [
    {
     "output_type": "stream",
     "name": "stdout",
     "text": [
      "[[ 0.  0.  5. 13.  9.  1.  0.  0.]\n",
      " [ 0.  0. 13. 15. 10. 15.  5.  0.]\n",
      " [ 0.  3. 15.  2.  0. 11.  8.  0.]\n",
      " [ 0.  4. 12.  0.  0.  8.  8.  0.]\n",
      " [ 0.  5.  8.  0.  0.  9.  8.  0.]\n",
      " [ 0.  4. 11.  0.  1. 12.  7.  0.]\n",
      " [ 0.  2. 14.  5. 10. 12.  0.  0.]\n",
      " [ 0.  0.  6. 13. 10.  0.  0.  0.]]\n"
     ]
    }
   ],
   "metadata": {}
  },
  {
   "cell_type": "code",
   "execution_count": 14,
   "source": [
    "print(digits.target[0])"
   ],
   "outputs": [
    {
     "output_type": "stream",
     "name": "stdout",
     "text": [
      "0\n"
     ]
    }
   ],
   "metadata": {}
  },
  {
   "cell_type": "code",
   "execution_count": 15,
   "source": [
    "print('전체 샘플의 수 : {}'.format(len(digits.images)))"
   ],
   "outputs": [
    {
     "output_type": "stream",
     "name": "stdout",
     "text": [
      "전체 샘플의 수 : 1797\n"
     ]
    }
   ],
   "metadata": {}
  },
  {
   "cell_type": "code",
   "execution_count": 16,
   "source": [
    "images_and_labels = list(zip(digits.images, digits.target))\r\n",
    "for index, (image, label) in enumerate(images_and_labels[:5]): # 5개의 샘플만 출력\r\n",
    "    plt.subplot(2, 5, index + 1)\r\n",
    "    plt.axis('off')\r\n",
    "    plt.imshow(image, cmap=plt.cm.gray_r, interpolation='nearest')\r\n",
    "    plt.title('sample: %i' % label)"
   ],
   "outputs": [
    {
     "output_type": "display_data",
     "data": {
      "image/png": "[encoded data removed]",
      "text/plain": [
       "<Figure size 432x288 with 5 Axes>"
      ]
     },
     "metadata": {
      "needs_background": "light"
     }
    }
   ],
   "metadata": {}
  },
  {
   "cell_type": "code",
   "execution_count": 17,
   "source": [
    "for i in range(5):\r\n",
    "  print(i,'번 인덱스 샘플의 레이블 : ',digits.target[i])"
   ],
   "outputs": [
    {
     "output_type": "stream",
     "name": "stdout",
     "text": [
      "0 번 인덱스 샘플의 레이블 :  0\n",
      "1 번 인덱스 샘플의 레이블 :  1\n",
      "2 번 인덱스 샘플의 레이블 :  2\n",
      "3 번 인덱스 샘플의 레이블 :  3\n",
      "4 번 인덱스 샘플의 레이블 :  4\n"
     ]
    }
   ],
   "metadata": {}
  },
  {
   "cell_type": "code",
   "execution_count": 18,
   "source": [
    "X = digits.data # 이미지. 즉, 특성 행렬\r\n",
    "Y = digits.target # 각 이미지에 대한 레이블"
   ],
   "outputs": [],
   "metadata": {}
  },
  {
   "cell_type": "markdown",
   "source": [
    "# 2. 다층 퍼셉트론 분류기 만들기\r\n"
   ],
   "metadata": {}
  },
  {
   "cell_type": "code",
   "execution_count": 19,
   "source": [
    "import torch\r\n",
    "import torch.nn as nn\r\n",
    "from torch import optim\r\n",
    "\r\n",
    "model = nn.Sequential(\r\n",
    "    nn.Linear(64,32),\r\n",
    "    nn.ReLU(),\r\n",
    "    nn.Linear(32,16),\r\n",
    "    nn.ReLU(),\r\n",
    "    nn.Linear(16,10))\r\n",
    "\r\n",
    "X = torch.tensor(X, dtype=torch.float32)\r\n",
    "Y = torch.tensor(Y, dtype=torch.int64)\r\n",
    "print(X)\r\n",
    "print(Y)\r\n"
   ],
   "outputs": [
    {
     "output_type": "stream",
     "name": "stdout",
     "text": [
      "tensor([[ 0.,  0.,  5.,  ...,  0.,  0.,  0.],\n",
      "        [ 0.,  0.,  0.,  ..., 10.,  0.,  0.],\n",
      "        [ 0.,  0.,  0.,  ..., 16.,  9.,  0.],\n",
      "        ...,\n",
      "        [ 0.,  0.,  1.,  ...,  6.,  0.,  0.],\n",
      "        [ 0.,  0.,  2.,  ..., 12.,  0.,  0.],\n",
      "        [ 0.,  0., 10.,  ..., 12.,  1.,  0.]])\n",
      "tensor([0, 1, 2,  ..., 8, 9, 8])\n"
     ]
    }
   ],
   "metadata": {}
  },
  {
   "cell_type": "code",
   "execution_count": 20,
   "source": [
    "loss_fn = nn.CrossEntropyLoss() # 이 비용 함수는 소프트맥스 함수를 포함하고 있음.\r\n",
    "optimizer = optim.Adam(model.parameters())"
   ],
   "outputs": [],
   "metadata": {}
  },
  {
   "cell_type": "code",
   "execution_count": 21,
   "source": [
    "losses = []\r\n",
    "\r\n",
    "for epoch in range(100):\r\n",
    "    optimizer.zero_grad()\r\n",
    "    y_pred = model(X) # forwar 연산\r\n",
    "    loss = loss_fn(y_pred, Y)\r\n",
    "    loss.backward()\r\n",
    "    optimizer.step()\r\n",
    "\r\n",
    "    if epoch % 10 == 0:\r\n",
    "        print('Epoch {:4d}/{} Cost: {:.6f}'.format(\r\n",
    "                epoch, 100, loss.item()\r\n",
    "            ))\r\n",
    "\r\n",
    "    losses.append(loss.item())"
   ],
   "outputs": [
    {
     "output_type": "stream",
     "name": "stdout",
     "text": [
      "Epoch    0/100 Cost: 2.379205\n",
      "Epoch   10/100 Cost: 1.975586\n",
      "Epoch   20/100 Cost: 1.639109\n",
      "Epoch   30/100 Cost: 1.300662\n",
      "Epoch   40/100 Cost: 0.974902\n",
      "Epoch   50/100 Cost: 0.718147\n",
      "Epoch   60/100 Cost: 0.537394\n",
      "Epoch   70/100 Cost: 0.409252\n",
      "Epoch   80/100 Cost: 0.313200\n",
      "Epoch   90/100 Cost: 0.246748\n"
     ]
    }
   ],
   "metadata": {}
  },
  {
   "cell_type": "code",
   "execution_count": 22,
   "source": [
    "plt.plot(losses)"
   ],
   "outputs": [
    {
     "output_type": "execute_result",
     "data": {
      "text/plain": [
       "[<matplotlib.lines.Line2D at 0x17b469ffca0>]"
      ]
     },
     "metadata": {},
     "execution_count": 22
    },
    {
     "output_type": "display_data",
     "data": {
      "image/png": "[encoded data removed]",
      "text/plain": [
       "<Figure size 432x288 with 1 Axes>"
      ]
     },
     "metadata": {
      "needs_background": "light"
     }
    }
   ],
   "metadata": {}
  }
 ],
 "metadata": {
  "orig_nbformat": 4,
  "language_info": {
   "name": "python",
   "version": "3.8.5",
   "mimetype": "text/x-python",
   "codemirror_mode": {
    "name": "ipython",
    "version": 3
   },
   "pygments_lexer": "ipython3",
   "nbconvert_exporter": "python",
   "file_extension": ".py"
  },
  "kernelspec": {
   "name": "python3",
   "display_name": "Python 3.8.5 64-bit ('chch': conda)"
  },
  "interpreter": {
   "hash": "a64de8b745ab094eb3381810b1d090f0053b4977cc21c07d5a367fb401258f96"
  }
 },
 "nbformat": 4,
 "nbformat_minor": 2
}