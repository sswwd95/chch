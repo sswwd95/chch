{
 "cells": [
  {
   "cell_type": "markdown",
   "source": [
    "# 4. 역전파(BackPropagation)\r\n",
    "### 1. 순전파(Forward Propagation)\r\n",
    "<img src=\"https://wikidocs.net/images/page/37406/nn2_final_final.PNG\" width=\"400\" height=\"200\"> \r\n"
   ],
   "metadata": {}
  },
  {
   "cell_type": "markdown",
   "source": [
    "파란색 숫자는 입력값을 의미하며, 빨간색 숫자는 각 가중치의 값을 의미합니다. 앞으로 진행하는 계산의 결과값은 소수점 아래 여덟번째 자리까지 반올림하여 표기합니다.\r\n",
    "\r\n",
    "$z_{1}=W_{1}x_{1} + W_{2}x_{2}=0.3{×} 0.1 + 0.25{×} 0.2= 0.08$  \r\n",
    "\r\n",
    "$z_{2}=W_{3}x_{1} + W_{4}x_{2}=0.4 {×} 0.1 + 0.35 {×} 0.2= 0.11$\r\n",
    "\r\n",
    "시그모이드 함수가 리턴하는 결과값은 은닉층 뉴런의 최종 출력값  \r\n",
    "$h_{1}=sigmoid(z_{1}) = 0.51998934$  \r\n",
    "$h_{2}=sigmoid(z_{2}) = 0.52747230$  \r\n",
    "  \r\n",
    "$z_{3}=W_{5}h_{1}+W_{6}h_{2} = 0.45 \\text{×} h_{1} + 0.4 \\text{×} h_{2} = 0.44498412$  \r\n",
    "$z_{4}=W_{7}h_{1}+W_{8}h_{2} = 0.7 \\text{×} h_{1} + 0.6 \\text{×} h_{2} = 0.68047592$  \r\n",
    "  \r\n",
    "$o_{1}=sigmoid(z_{3})=0.60944600$  \r\n",
    "$o_{2}=sigmoid(z_{4})=0.66384491$\r\n",
    "\r\n",
    " "
   ],
   "metadata": {}
  },
  {
   "cell_type": "markdown",
   "source": [
    "오차(Error)를 계산하기 위한 손실 함수(Loss function)로는 평균 제곱 오차 MSE를 사용한다.   \r\n",
    "식에서는 실제값을 target이라고 표현하였으며, 순전파를 통해 나온 예측값을 output으로 표현하였다.   \r\n",
    "  \r\n",
    "$E_{o1}=\\frac{1}{2}(target_{o1}-output_{o1})^{2}=0.02193381$  \r\n",
    "$E_{o2}=\\frac{1}{2}(target_{o2}-output_{o2})^{2}=0.00203809$  \r\n",
    "$E_{total}=E_{o1}+E_{o2}=0.02397190$  \r\n",
    "\r\n",
    "\r\n",
    "\r\n",
    "\r\n"
   ],
   "metadata": {}
  },
  {
   "cell_type": "markdown",
   "source": [
    "# 2. 역전파 1단계(BackPropagation Step 1)\r\n",
    "순전파가 입력층에서 출력층으로 향한다면 역전파는 반대로 출력층에서 입력층 방향으로 계산하면서 가중치를 업데이트해갑니다."
   ],
   "metadata": {}
  },
  {
   "cell_type": "code",
   "execution_count": null,
   "source": [],
   "outputs": [],
   "metadata": {}
  }
 ],
 "metadata": {
  "orig_nbformat": 4,
  "language_info": {
   "name": "python",
   "version": "3.8.5"
  },
  "kernelspec": {
   "name": "python3",
   "display_name": "Python 3.8.5 64-bit ('chch': conda)"
  },
  "interpreter": {
   "hash": "a64de8b745ab094eb3381810b1d090f0053b4977cc21c07d5a367fb401258f96"
  }
 },
 "nbformat": 4,
 "nbformat_minor": 2
}