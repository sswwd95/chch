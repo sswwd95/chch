{
 "cells": [
  {
   "cell_type": "markdown",
   "source": [
    "## 토치텍스트에서 배치퍼스트(batch_first)를 True로 한 경우와 False를 한 경우를 비교"
   ],
   "metadata": {}
  },
  {
   "cell_type": "code",
   "execution_count": 4,
   "source": [
    "from torchtext.legacy import data # torchtext.data 임포트\r\n",
    "\r\n",
    "# 필드 정의\r\n",
    "TEXT = data.Field(sequential=True,\r\n",
    "                  use_vocab=True,\r\n",
    "                  tokenize=str.split,\r\n",
    "                  lower=True,\r\n",
    "                  batch_first=True, # <== 이 부분을 True로 합니다.\r\n",
    "                  fix_length=20)\r\n",
    "\r\n",
    "LABEL = data.Field(sequential=False,\r\n",
    "                   use_vocab=False,\r\n",
    "                   batch_first=False,\r\n",
    "                   is_target=True)\r\n"
   ],
   "outputs": [],
   "metadata": {}
  },
  {
   "cell_type": "code",
   "execution_count": 6,
   "source": [
    "from torchtext.legacy.data import TabularDataset\r\n",
    "from torchtext.legacy.data import Iterator\r\n",
    "\r\n",
    "# TabularDataset은 데이터를 불러오면서 필드에서 정의했던 토큰화 방법으로 토큰화를 수행합니다.\r\n",
    "train_data, test_data = TabularDataset.splits(\r\n",
    "        path='.', train='train_data.csv', test='test_data.csv', format='csv',\r\n",
    "        fields=[('text', TEXT), ('label', LABEL)], skip_header=True)\r\n",
    "\r\n",
    "# 정의한 필드에 .build_vocab() 도구를 사용하면 단어 집합을 생성합니다.\r\n",
    "TEXT.build_vocab(train_data, min_freq=10, max_size=10000) # 10,000개의 단어를 가진 단어 집합 생성\r\n",
    "\r\n",
    "# 배치 크기를 정하고 첫번째 배치를 출력해보겠습니다.\r\n",
    "batch_size = 5\r\n",
    "train_loader = Iterator(dataset=train_data, batch_size = batch_size)\r\n",
    "batch = next(iter(train_loader)) # 첫번째 미니배치\r\n",
    "\r\n",
    "print(batch.text)\r\n",
    "\r\n",
    "print(\"미니 배치의 크기 출력 : \",batch.text.shape)"
   ],
   "outputs": [
    {
     "output_type": "stream",
     "name": "stdout",
     "text": [
      "tensor([[  11,  175,   51,   68, 2962,  731,   12,  129, 1974, 8956,   15,    0,\n",
      "            5,    0,    4,  214, 4794,   26,    0,  392],\n",
      "        [  16, 2293,   32, 8567,    4, 7733,   20,    7,  140,   24,   26,    6,\n",
      "           28,    8,    2, 1436, 1978,  147,   49,  777],\n",
      "        [ 147,    3,  559,  987,    0,    4,   29,  715,    0,  186,   39, 2149,\n",
      "           10,  841,   16,    2,   82,  289,    9,  317],\n",
      "        [  10,   20, 2124,    3,  774,  128,   19, 1056, 1213, 4523,   53,  204,\n",
      "           11,   41,  164,  986,    6,   86,   17,  957],\n",
      "        [   0,    6,    0,   41,   71,   51,   40,  340, 1874,    8, 2589, 9942,\n",
      "            8,    2,  593,  974, 1356,   18,   11,    7]])\n",
      "미니 배치의 크기 출력 :  torch.Size([5, 20])\n"
     ]
    }
   ],
   "metadata": {}
  },
  {
   "cell_type": "markdown",
   "source": [
    "# batch_firt를 False로 한다면?"
   ],
   "metadata": {}
  },
  {
   "cell_type": "code",
   "execution_count": 7,
   "source": [
    "# 필드 정의\r\n",
    "\r\n",
    "# 기본값이 False라서 지정 안해줌\r\n",
    "TEXT = data.Field(sequential=True,\r\n",
    "                  use_vocab=True,\r\n",
    "                  tokenize=str.split,\r\n",
    "                  lower=True,\r\n",
    "                  fix_length=20) \r\n",
    "\r\n",
    "LABEL = data.Field(sequential=False,\r\n",
    "                   use_vocab=False,\r\n",
    "                   batch_first=False,\r\n",
    "                   is_target=True)"
   ],
   "outputs": [],
   "metadata": {}
  },
  {
   "cell_type": "code",
   "execution_count": 9,
   "source": [
    "# TabularDataset은 데이터를 불러오면서 필드에서 정의했던 토큰화 방법으로 토큰화를 수행합니다.\r\n",
    "train_data, test_data = TabularDataset.splits(\r\n",
    "        path='.', train='train_data.csv', test='test_data.csv', format='csv',\r\n",
    "        fields=[('text', TEXT), ('label', LABEL)], skip_header=True)\r\n",
    "\r\n",
    "# 정의한 필드에 .build_vocab() 도구를 사용하면 단어 집합을 생성합니다.\r\n",
    "TEXT.build_vocab(train_data, min_freq=10, max_size=10000) # 10,000개의 단어를 가진 단어 집합 생성\r\n",
    "\r\n",
    "# 배치 크기를 정하고 첫번째 배치를 출력해보겠습니다.\r\n",
    "batch_size = 5\r\n",
    "train_loader = Iterator(dataset=train_data, batch_size = batch_size)\r\n",
    "batch = next(iter(train_loader)) # 첫번째 미니배치\r\n",
    "\r\n",
    "print(batch.text)\r\n",
    "\r\n",
    "# 하나의 미니 배치의 크기는 (fix_length × 배치 크기)\r\n",
    "print(\"미니 배치의 크기 출력 : \",batch.text.shape)\r\n"
   ],
   "outputs": [
    {
     "output_type": "stream",
     "name": "stdout",
     "text": [
      "tensor([[  11,   16,  147,   10,    0],\n",
      "        [ 175, 2293,    3,   20,    6],\n",
      "        [  51,   32,  559, 2124,    0],\n",
      "        [  68, 8567,  987,    3,   41],\n",
      "        [2962,    4,    0,  774,   71],\n",
      "        [ 731, 7733,    4,  128,   51],\n",
      "        [  12,   20,   29,   19,   40],\n",
      "        [ 129,    7,  715, 1056,  340],\n",
      "        [1974,  140,    0, 1213, 1874],\n",
      "        [8956,   24,  186, 4523,    8],\n",
      "        [  15,   26,   39,   53, 2589],\n",
      "        [   0,    6, 2149,  204, 9942],\n",
      "        [   5,   28,   10,   11,    8],\n",
      "        [   0,    8,  841,   41,    2],\n",
      "        [   4,    2,   16,  164,  593],\n",
      "        [ 214, 1436,    2,  986,  974],\n",
      "        [4794, 1978,   82,    6, 1356],\n",
      "        [  26,  147,  289,   86,   18],\n",
      "        [   0,   49,    9,   17,   11],\n",
      "        [ 392,  777,  317,  957,    7]])\n",
      "미니 배치의 크기 출력 :  torch.Size([20, 5])\n"
     ]
    },
    {
     "output_type": "error",
     "ename": "TypeError",
     "evalue": "'Iterator' object is not subscriptable",
     "traceback": [
      "\u001b[1;31m---------------------------------------------------------------------------\u001b[0m",
      "\u001b[1;31mTypeError\u001b[0m                                 Traceback (most recent call last)",
      "\u001b[1;32m~\\AppData\\Local\\Temp/ipykernel_16012/2608334435.py\u001b[0m in \u001b[0;36m<module>\u001b[1;34m\u001b[0m\n\u001b[0;32m     17\u001b[0m \u001b[0mprint\u001b[0m\u001b[1;33m(\u001b[0m\u001b[1;34m\"미니 배치의 크기 출력 : \"\u001b[0m\u001b[1;33m,\u001b[0m\u001b[0mbatch\u001b[0m\u001b[1;33m.\u001b[0m\u001b[0mtext\u001b[0m\u001b[1;33m.\u001b[0m\u001b[0mshape\u001b[0m\u001b[1;33m)\u001b[0m\u001b[1;33m\u001b[0m\u001b[1;33m\u001b[0m\u001b[0m\n\u001b[0;32m     18\u001b[0m \u001b[1;33m\u001b[0m\u001b[0m\n\u001b[1;32m---> 19\u001b[1;33m \u001b[0mprint\u001b[0m\u001b[1;33m(\u001b[0m\u001b[0mtrain_loader\u001b[0m\u001b[1;33m[\u001b[0m\u001b[1;36m0\u001b[0m\u001b[1;33m]\u001b[0m\u001b[1;33m)\u001b[0m\u001b[1;33m\u001b[0m\u001b[1;33m\u001b[0m\u001b[0m\n\u001b[0m",
      "\u001b[1;31mTypeError\u001b[0m: 'Iterator' object is not subscriptable"
     ]
    }
   ],
   "metadata": {}
  }
 ],
 "metadata": {
  "orig_nbformat": 4,
  "language_info": {
   "name": "python",
   "version": "3.8.5",
   "mimetype": "text/x-python",
   "codemirror_mode": {
    "name": "ipython",
    "version": 3
   },
   "pygments_lexer": "ipython3",
   "nbconvert_exporter": "python",
   "file_extension": ".py"
  },
  "kernelspec": {
   "name": "python3",
   "display_name": "Python 3.8.5 64-bit ('chch': conda)"
  },
  "interpreter": {
   "hash": "a64de8b745ab094eb3381810b1d090f0053b4977cc21c07d5a367fb401258f96"
  }
 },
 "nbformat": 4,
 "nbformat_minor": 2
}