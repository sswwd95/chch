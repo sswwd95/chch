{
 "cells": [
  {
   "cell_type": "markdown",
   "source": [
    "# 모델을 클래스로 구현하기\r\n",
    "---"
   ],
   "metadata": {}
  },
  {
   "cell_type": "code",
   "execution_count": 35,
   "source": [
    "import torch\r\n",
    "import torch.nn as nn\r\n",
    "import torch.nn.functional as F\r\n",
    "import torch.optim as optim\r\n",
    "\r\n",
    "torch.manual_seed(1)"
   ],
   "outputs": [
    {
     "output_type": "execute_result",
     "data": {
      "text/plain": [
       "<torch._C.Generator at 0x15bb29675f0>"
      ]
     },
     "metadata": {},
     "execution_count": 35
    }
   ],
   "metadata": {}
  },
  {
   "cell_type": "code",
   "execution_count": 36,
   "source": [
    "model = nn.Sequential(\r\n",
    "    nn.Linear(2,1),\r\n",
    "    nn.Sigmoid())\r\n",
    "\r\n",
    "print(model)\r\n"
   ],
   "outputs": [
    {
     "output_type": "stream",
     "name": "stdout",
     "text": [
      "Sequential(\n",
      "  (0): Linear(in_features=2, out_features=1, bias=True)\n",
      "  (1): Sigmoid()\n",
      ")\n"
     ]
    }
   ],
   "metadata": {}
  },
  {
   "cell_type": "code",
   "execution_count": 37,
   "source": [
    "class BinaryClassifier(nn.Module):\r\n",
    "    def __init__(self):\r\n",
    "        super().__init__()\r\n",
    "        self.linear = nn.Linear(2,1)\r\n",
    "        self.sigmoid = nn.Sigmoid()\r\n",
    "\r\n",
    "    # 모델이 학습데이터를 입력받아서 foward 연산을 진행\r\n",
    "    # model객체를 데이터와 함께 호출하면 자동으로 실행이된다. \r\n",
    "    # foward 연산 : H(x)식에 입력 x로부터 예측된 y를 얻는 것\r\n",
    "    def forward(self,x): \r\n",
    "        return self.sigmoid(self.linear)"
   ],
   "outputs": [],
   "metadata": {}
  },
  {
   "cell_type": "markdown",
   "source": [],
   "metadata": {}
  },
  {
   "cell_type": "code",
   "execution_count": 38,
   "source": [
    "import torch\r\n",
    "import torch.nn as nn\r\n",
    "import torch.nn.functional as F\r\n",
    "import torch.optim as optim\r\n",
    "\r\n",
    "torch.manual_seed(1)\r\n",
    "\r\n",
    "x_data = [[1, 2], [2, 3], [3, 1], [4, 3], [5, 3], [6, 2]]\r\n",
    "y_data = [[0], [0], [0], [1], [1], [1]]\r\n",
    "x_train = torch.FloatTensor(x_data)\r\n",
    "y_train = torch.FloatTensor(y_data)\r\n",
    "\r\n",
    "class BinaryClassifier(nn.Module):\r\n",
    "    def __init__(self):\r\n",
    "        super().__init__()\r\n",
    "        self.linear = nn.Linear(2,1)\r\n",
    "        self.sigmoid = nn.Sigmoid()\r\n",
    "    def forward(self, x):\r\n",
    "        return self.sigmoid(self.linear(x))\r\n",
    "\r\n",
    "model =  BinaryClassifier()\r\n",
    "\r\n",
    "optimizer = optim.SGD(model.parameters(), lr =1)\r\n",
    "\r\n",
    "n_epoch = 1000\r\n",
    "for epoch in range(n_epoch + 1):\r\n",
    "    hypothesis = model(x_train)\r\n",
    "\r\n",
    "    cost = F.binary_cross_entropy(hypothesis,y_train)\r\n",
    "\r\n",
    "    optimizer.zero_grad()\r\n",
    "    cost.backward()\r\n",
    "    optimizer.step()\r\n",
    "\r\n",
    "    if epoch %10==0:\r\n",
    "        prediction = hypothesis >= torch.FloatTensor([0.5])\r\n",
    "        correct_prediction = prediction.float() == y_train\r\n",
    "        accuracy = correct_prediction.sum().item()/len(correct_prediction)\r\n",
    "        print('eopch {:04d}/{} Cost : {:.6f} Accuracy {:2.2f}%'.format(\r\n",
    "            epoch, n_epoch, cost.item(), accuracy*100 ))"
   ],
   "outputs": [
    {
     "output_type": "stream",
     "name": "stdout",
     "text": [
      "eopch 0000/1000 Cost : 0.539713 Accuracy 83.33%\n",
      "eopch 0010/1000 Cost : 0.614853 Accuracy 66.67%\n",
      "eopch 0020/1000 Cost : 0.441875 Accuracy 66.67%\n",
      "eopch 0030/1000 Cost : 0.373145 Accuracy 83.33%\n",
      "eopch 0040/1000 Cost : 0.316358 Accuracy 83.33%\n",
      "eopch 0050/1000 Cost : 0.266094 Accuracy 83.33%\n",
      "eopch 0060/1000 Cost : 0.220498 Accuracy 100.00%\n",
      "eopch 0070/1000 Cost : 0.182095 Accuracy 100.00%\n",
      "eopch 0080/1000 Cost : 0.157299 Accuracy 100.00%\n",
      "eopch 0090/1000 Cost : 0.144091 Accuracy 100.00%\n",
      "eopch 0100/1000 Cost : 0.134272 Accuracy 100.00%\n",
      "eopch 0110/1000 Cost : 0.125769 Accuracy 100.00%\n",
      "eopch 0120/1000 Cost : 0.118297 Accuracy 100.00%\n",
      "eopch 0130/1000 Cost : 0.111680 Accuracy 100.00%\n",
      "eopch 0140/1000 Cost : 0.105779 Accuracy 100.00%\n",
      "eopch 0150/1000 Cost : 0.100483 Accuracy 100.00%\n",
      "eopch 0160/1000 Cost : 0.095704 Accuracy 100.00%\n",
      "eopch 0170/1000 Cost : 0.091369 Accuracy 100.00%\n",
      "eopch 0180/1000 Cost : 0.087420 Accuracy 100.00%\n",
      "eopch 0190/1000 Cost : 0.083806 Accuracy 100.00%\n",
      "eopch 0200/1000 Cost : 0.080486 Accuracy 100.00%\n",
      "eopch 0210/1000 Cost : 0.077425 Accuracy 100.00%\n",
      "eopch 0220/1000 Cost : 0.074595 Accuracy 100.00%\n",
      "eopch 0230/1000 Cost : 0.071969 Accuracy 100.00%\n",
      "eopch 0240/1000 Cost : 0.069526 Accuracy 100.00%\n",
      "eopch 0250/1000 Cost : 0.067248 Accuracy 100.00%\n",
      "eopch 0260/1000 Cost : 0.065118 Accuracy 100.00%\n",
      "eopch 0270/1000 Cost : 0.063122 Accuracy 100.00%\n",
      "eopch 0280/1000 Cost : 0.061247 Accuracy 100.00%\n",
      "eopch 0290/1000 Cost : 0.059483 Accuracy 100.00%\n",
      "eopch 0300/1000 Cost : 0.057820 Accuracy 100.00%\n",
      "eopch 0310/1000 Cost : 0.056250 Accuracy 100.00%\n",
      "eopch 0320/1000 Cost : 0.054764 Accuracy 100.00%\n",
      "eopch 0330/1000 Cost : 0.053357 Accuracy 100.00%\n",
      "eopch 0340/1000 Cost : 0.052022 Accuracy 100.00%\n",
      "eopch 0350/1000 Cost : 0.050753 Accuracy 100.00%\n",
      "eopch 0360/1000 Cost : 0.049546 Accuracy 100.00%\n",
      "eopch 0370/1000 Cost : 0.048396 Accuracy 100.00%\n",
      "eopch 0380/1000 Cost : 0.047299 Accuracy 100.00%\n",
      "eopch 0390/1000 Cost : 0.046252 Accuracy 100.00%\n",
      "eopch 0400/1000 Cost : 0.045251 Accuracy 100.00%\n",
      "eopch 0410/1000 Cost : 0.044294 Accuracy 100.00%\n",
      "eopch 0420/1000 Cost : 0.043376 Accuracy 100.00%\n",
      "eopch 0430/1000 Cost : 0.042497 Accuracy 100.00%\n",
      "eopch 0440/1000 Cost : 0.041653 Accuracy 100.00%\n",
      "eopch 0450/1000 Cost : 0.040843 Accuracy 100.00%\n",
      "eopch 0460/1000 Cost : 0.040064 Accuracy 100.00%\n",
      "eopch 0470/1000 Cost : 0.039315 Accuracy 100.00%\n",
      "eopch 0480/1000 Cost : 0.038593 Accuracy 100.00%\n",
      "eopch 0490/1000 Cost : 0.037898 Accuracy 100.00%\n",
      "eopch 0500/1000 Cost : 0.037228 Accuracy 100.00%\n",
      "eopch 0510/1000 Cost : 0.036582 Accuracy 100.00%\n",
      "eopch 0520/1000 Cost : 0.035958 Accuracy 100.00%\n",
      "eopch 0530/1000 Cost : 0.035356 Accuracy 100.00%\n",
      "eopch 0540/1000 Cost : 0.034773 Accuracy 100.00%\n",
      "eopch 0550/1000 Cost : 0.034210 Accuracy 100.00%\n",
      "eopch 0560/1000 Cost : 0.033664 Accuracy 100.00%\n",
      "eopch 0570/1000 Cost : 0.033137 Accuracy 100.00%\n",
      "eopch 0580/1000 Cost : 0.032625 Accuracy 100.00%\n",
      "eopch 0590/1000 Cost : 0.032130 Accuracy 100.00%\n",
      "eopch 0600/1000 Cost : 0.031649 Accuracy 100.00%\n",
      "eopch 0610/1000 Cost : 0.031183 Accuracy 100.00%\n",
      "eopch 0620/1000 Cost : 0.030730 Accuracy 100.00%\n",
      "eopch 0630/1000 Cost : 0.030291 Accuracy 100.00%\n",
      "eopch 0640/1000 Cost : 0.029864 Accuracy 100.00%\n",
      "eopch 0650/1000 Cost : 0.029449 Accuracy 100.00%\n",
      "eopch 0660/1000 Cost : 0.029046 Accuracy 100.00%\n",
      "eopch 0670/1000 Cost : 0.028654 Accuracy 100.00%\n",
      "eopch 0680/1000 Cost : 0.028272 Accuracy 100.00%\n",
      "eopch 0690/1000 Cost : 0.027900 Accuracy 100.00%\n",
      "eopch 0700/1000 Cost : 0.027538 Accuracy 100.00%\n",
      "eopch 0710/1000 Cost : 0.027186 Accuracy 100.00%\n",
      "eopch 0720/1000 Cost : 0.026842 Accuracy 100.00%\n",
      "eopch 0730/1000 Cost : 0.026507 Accuracy 100.00%\n",
      "eopch 0740/1000 Cost : 0.026181 Accuracy 100.00%\n",
      "eopch 0750/1000 Cost : 0.025862 Accuracy 100.00%\n",
      "eopch 0760/1000 Cost : 0.025552 Accuracy 100.00%\n",
      "eopch 0770/1000 Cost : 0.025248 Accuracy 100.00%\n",
      "eopch 0780/1000 Cost : 0.024952 Accuracy 100.00%\n",
      "eopch 0790/1000 Cost : 0.024663 Accuracy 100.00%\n",
      "eopch 0800/1000 Cost : 0.024381 Accuracy 100.00%\n",
      "eopch 0810/1000 Cost : 0.024104 Accuracy 100.00%\n",
      "eopch 0820/1000 Cost : 0.023835 Accuracy 100.00%\n",
      "eopch 0830/1000 Cost : 0.023571 Accuracy 100.00%\n",
      "eopch 0840/1000 Cost : 0.023313 Accuracy 100.00%\n",
      "eopch 0850/1000 Cost : 0.023061 Accuracy 100.00%\n",
      "eopch 0860/1000 Cost : 0.022814 Accuracy 100.00%\n",
      "eopch 0870/1000 Cost : 0.022572 Accuracy 100.00%\n",
      "eopch 0880/1000 Cost : 0.022336 Accuracy 100.00%\n",
      "eopch 0890/1000 Cost : 0.022104 Accuracy 100.00%\n",
      "eopch 0900/1000 Cost : 0.021877 Accuracy 100.00%\n",
      "eopch 0910/1000 Cost : 0.021655 Accuracy 100.00%\n",
      "eopch 0920/1000 Cost : 0.021437 Accuracy 100.00%\n",
      "eopch 0930/1000 Cost : 0.021224 Accuracy 100.00%\n",
      "eopch 0940/1000 Cost : 0.021015 Accuracy 100.00%\n",
      "eopch 0950/1000 Cost : 0.020810 Accuracy 100.00%\n",
      "eopch 0960/1000 Cost : 0.020609 Accuracy 100.00%\n",
      "eopch 0970/1000 Cost : 0.020412 Accuracy 100.00%\n",
      "eopch 0980/1000 Cost : 0.020219 Accuracy 100.00%\n",
      "eopch 0990/1000 Cost : 0.020029 Accuracy 100.00%\n",
      "eopch 1000/1000 Cost : 0.019843 Accuracy 100.00%\n"
     ]
    }
   ],
   "metadata": {}
  }
 ],
 "metadata": {
  "orig_nbformat": 4,
  "language_info": {
   "name": "python",
   "version": "3.8.5",
   "mimetype": "text/x-python",
   "codemirror_mode": {
    "name": "ipython",
    "version": 3
   },
   "pygments_lexer": "ipython3",
   "nbconvert_exporter": "python",
   "file_extension": ".py"
  },
  "kernelspec": {
   "name": "python3",
   "display_name": "Python 3.8.5 64-bit ('chch': conda)"
  },
  "interpreter": {
   "hash": "a64de8b745ab094eb3381810b1d090f0053b4977cc21c07d5a367fb401258f96"
  }
 },
 "nbformat": 4,
 "nbformat_minor": 2
}