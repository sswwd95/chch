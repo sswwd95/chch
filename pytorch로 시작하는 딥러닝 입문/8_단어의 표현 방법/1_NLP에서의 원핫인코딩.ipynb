{
 "cells": [
  {
   "cell_type": "code",
   "execution_count": 4,
   "source": [
    "# !pip install konlpy\r\n",
    "# !pip install A:\\chch\\chch\\JPype1-1.1.2-cp38-cp38-win_amd64.whl\r\n",
    "\r\n",
    "# A:\\chch\\chch\\JPype1-1.3.0-cp38-cp38-win_amd64.whl 이거만 깔았다가 계속 에러^^"
   ],
   "outputs": [],
   "metadata": {}
  },
  {
   "cell_type": "code",
   "execution_count": 5,
   "source": [
    "from konlpy.tag import Okt #open korean text(트위터)  \r\n",
    "okt = Okt()  \r\n",
    "token = okt.morphs(\"나는 자연어 처리를 배운다\")  \r\n",
    "print(token)"
   ],
   "outputs": [
    {
     "output_type": "stream",
     "name": "stdout",
     "text": [
      "['나', '는', '자연어', '처리', '를', '배운다']\n"
     ]
    }
   ],
   "metadata": {}
  },
  {
   "cell_type": "code",
   "execution_count": 13,
   "source": [
    "word2index = {}\r\n",
    "for voca in token:\r\n",
    "    print(voca)\r\n",
    "    if voca not in word2index.keys():\r\n",
    "      word2index[voca] = len(word2index)\r\n",
    "      print(word2index[voca])\r\n",
    "print(word2index)"
   ],
   "outputs": [
    {
     "output_type": "stream",
     "name": "stdout",
     "text": [
      "나\n",
      "0\n",
      "는\n",
      "1\n",
      "자연어\n",
      "2\n",
      "처리\n",
      "3\n",
      "를\n",
      "4\n",
      "배운다\n",
      "5\n",
      "{'나': 0, '는': 1, '자연어': 2, '처리': 3, '를': 4, '배운다': 5}\n"
     ]
    }
   ],
   "metadata": {}
  },
  {
   "cell_type": "markdown",
   "source": [
    "지금은 문장이 짧기 때문에 각 단어의 빈도수를 고려하지 않지만, 빈도수 순대로 단어를 정렬하여 고유한 인덱스를 부여하는 작업이 사용되기도 합니다. (정수 인코딩 챕터 참고)"
   ],
   "metadata": {}
  },
  {
   "cell_type": "code",
   "execution_count": 14,
   "source": [
    "def one_hot_encoding(word, word2index):\r\n",
    "       one_hot_vector = [0]*(len(word2index))\r\n",
    "       index = word2index[word]\r\n",
    "       one_hot_vector[index] = 1\r\n",
    "       return one_hot_vector\r\n",
    "\r\n",
    "one_hot_encoding(\"자연어\",word2index)"
   ],
   "outputs": [
    {
     "output_type": "execute_result",
     "data": {
      "text/plain": [
       "[0, 0, 1, 0, 0, 0]"
      ]
     },
     "metadata": {},
     "execution_count": 14
    }
   ],
   "metadata": {}
  },
  {
   "cell_type": "markdown",
   "source": [
    "# NLP에서의 원핫인코딩의 한계\r\n",
    "* 단어의 개수가 늘어날 수록, 벡터를 저장하기 위해 필요한 공간이 계속 늘어난다는 단점 = 벡터의 차원이 계속 늘어난다.\r\n",
    "* 단어의 유사도를 표현 못한다. => 검색 시스템 등에서 심각한 문제"
   ],
   "metadata": {}
  }
 ],
 "metadata": {
  "orig_nbformat": 4,
  "language_info": {
   "name": "python",
   "version": "3.8.5",
   "mimetype": "text/x-python",
   "codemirror_mode": {
    "name": "ipython",
    "version": 3
   },
   "pygments_lexer": "ipython3",
   "nbconvert_exporter": "python",
   "file_extension": ".py"
  },
  "kernelspec": {
   "name": "python3",
   "display_name": "Python 3.8.5 64-bit ('chch': conda)"
  },
  "interpreter": {
   "hash": "a64de8b745ab094eb3381810b1d090f0053b4977cc21c07d5a367fb401258f96"
  }
 },
 "nbformat": 4,
 "nbformat_minor": 2
}