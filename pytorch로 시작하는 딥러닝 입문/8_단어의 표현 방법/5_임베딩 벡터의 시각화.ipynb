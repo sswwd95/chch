{
 "cells": [
  {
   "cell_type": "markdown",
   "source": [
    "# 05. 임베딩 벡터의 시각화(Embedding Visualization)"
   ],
   "metadata": {}
  },
  {
   "cell_type": "markdown",
   "source": [
    "https://projector.tensorflow.org/"
   ],
   "metadata": {}
  },
  {
   "cell_type": "markdown",
   "source": [
    "### 1. 워드 임베딩 모델로부터 2개의 tsv 파일 생성하기"
   ],
   "metadata": {}
  },
  {
   "cell_type": "code",
   "execution_count": 1,
   "source": [
    "!python -m gensim.scripts.word2vec2tensor --input eng_w2v --output eng_w2v"
   ],
   "outputs": [
    {
     "output_type": "stream",
     "name": "stderr",
     "text": [
      "2021-09-29 21:10:29,795 - word2vec2tensor - INFO - running C:\\Users\\sswwd\\AppData\\Roaming\\Python\\Python38\\site-packages\\gensim\\scripts\\word2vec2tensor.py --input eng_w2v --output eng_w2v\n",
      "2021-09-29 21:10:29,795 - utils_any2vec - INFO - loading projection weights from eng_w2v\n",
      "2021-09-29 21:10:30,714 - utils_any2vec - INFO - loaded (21613, 100) matrix from eng_w2v\n",
      "2021-09-29 21:10:31,854 - word2vec2tensor - INFO - 2D tensor file saved to eng_w2v_tensor.tsv\n",
      "2021-09-29 21:10:31,854 - word2vec2tensor - INFO - Tensor metadata file saved to eng_w2v_metadata.tsv\n",
      "2021-09-29 21:10:31,856 - word2vec2tensor - INFO - finished running word2vec2tensor.py\n"
     ]
    }
   ],
   "metadata": {}
  },
  {
   "cell_type": "markdown",
   "source": [
    "# 한국어 모델 시각화\r\n"
   ],
   "metadata": {}
  },
  {
   "cell_type": "code",
   "execution_count": 2,
   "source": [
    "!python -m gensim.scripts.word2vec2tensor --input ko_w2v --output ko_w2v"
   ],
   "outputs": [
    {
     "output_type": "stream",
     "name": "stderr",
     "text": [
      "2021-09-29 21:36:43,861 - word2vec2tensor - INFO - running C:\\Users\\sswwd\\AppData\\Roaming\\Python\\Python38\\site-packages\\gensim\\scripts\\word2vec2tensor.py --input ko_w2v --output ko_w2v\n",
      "2021-09-29 21:36:43,861 - utils_any2vec - INFO - loading projection weights from ko_w2v\n",
      "2021-09-29 21:36:46,381 - utils_any2vec - INFO - loaded (30185, 200) matrix from ko_w2v\n",
      "2021-09-29 21:36:49,339 - word2vec2tensor - INFO - 2D tensor file saved to ko_w2v_tensor.tsv\n",
      "2021-09-29 21:36:49,339 - word2vec2tensor - INFO - Tensor metadata file saved to ko_w2v_metadata.tsv\n",
      "2021-09-29 21:36:49,342 - word2vec2tensor - INFO - finished running word2vec2tensor.py\n"
     ]
    }
   ],
   "metadata": {}
  }
 ],
 "metadata": {
  "orig_nbformat": 4,
  "language_info": {
   "name": "python",
   "version": "3.8.5",
   "mimetype": "text/x-python",
   "codemirror_mode": {
    "name": "ipython",
    "version": 3
   },
   "pygments_lexer": "ipython3",
   "nbconvert_exporter": "python",
   "file_extension": ".py"
  },
  "kernelspec": {
   "name": "python3",
   "display_name": "Python 3.8.5 64-bit ('chch': conda)"
  },
  "interpreter": {
   "hash": "a64de8b745ab094eb3381810b1d090f0053b4977cc21c07d5a367fb401258f96"
  }
 },
 "nbformat": 4,
 "nbformat_minor": 2
}