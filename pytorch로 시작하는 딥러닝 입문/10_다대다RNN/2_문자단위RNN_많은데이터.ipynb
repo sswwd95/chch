{
 "cells": [
  {
   "cell_type": "code",
   "execution_count": 11,
   "metadata": {},
   "outputs": [],
   "source": [
    "import torch\n",
    "import torch.nn as nn\n",
    "import torch.optim as optim\n",
    "import numpy as np"
   ]
  },
  {
   "cell_type": "code",
   "execution_count": 2,
   "metadata": {},
   "outputs": [],
   "source": [
    "sentence = (\"if you want to build a ship, don't drum up people together to \"\n",
    "            \"collect wood and don't assign them tasks and work, but rather \"\n",
    "            \"teach them to long for the endless immensity of the sea.\")\n"
   ]
  },
  {
   "cell_type": "code",
   "execution_count": 3,
   "metadata": {},
   "outputs": [],
   "source": [
    "char_set = list(set(sentence)) # 중복을 제거한 문자 집합 생성\n",
    "char_dic = {c: i for i, c in enumerate(char_set)} # 각 문자에 정수 인"
   ]
  },
  {
   "cell_type": "code",
   "execution_count": 4,
   "metadata": {},
   "outputs": [
    {
     "name": "stdout",
     "output_type": "stream",
     "text": [
      "{'m': 0, 's': 1, 'i': 2, ' ': 3, ',': 4, 'g': 5, 'n': 6, 'h': 7, 'u': 8, 'a': 9, 'f': 10, 'c': 11, 'd': 12, '.': 13, 'e': 14, 't': 15, 'o': 16, 'k': 17, 'l': 18, \"'\": 19, 'r': 20, 'y': 21, 'b': 22, 'p': 23, 'w': 24}\n"
     ]
    }
   ],
   "source": [
    "print(char_dic) # 공백도 여기서는 하나의 원소"
   ]
  },
  {
   "cell_type": "code",
   "execution_count": 5,
   "metadata": {},
   "outputs": [
    {
     "name": "stdout",
     "output_type": "stream",
     "text": [
      "문자 집합의 크기 : 25\n"
     ]
    }
   ],
   "source": [
    "dic_size = len(char_dic)\n",
    "print('문자 집합의 크기 : {}'.format(dic_size))"
   ]
  },
  {
   "cell_type": "markdown",
   "metadata": {},
   "source": [
    "문자 집합의 크기는 25이며, 입력을 원-핫 벡터로 사용할 것이므로 이는 매 시점마다 들어갈 입력의 크기이기도 합니다. 이제 하이퍼파라미터를 설정합니다. hidden_size(은닉 상태의 크기)를 입력의 크기와 동일하게 줬는데, 이는 사용자의 선택으로 다른 값을 줘도 무방합니다.\n",
    "\n",
    "그리고 sequence_length라는 변수를 선언했는데, 우리가 앞서 만든 샘플을 10개 단위로 끊어서 샘플을 만들 예정이기 때문입니다. 이는 뒤에서 더 자세히 보겠습니다."
   ]
  },
  {
   "cell_type": "code",
   "execution_count": 6,
   "metadata": {},
   "outputs": [],
   "source": [
    "# 하이퍼파라미터 설정\n",
    "hidden_size = dic_size\n",
    "sequence_length = 10  # 임의 숫자 지정\n",
    "learning_rate = 0.1"
   ]
  },
  {
   "cell_type": "code",
   "execution_count": 8,
   "metadata": {},
   "outputs": [
    {
     "name": "stdout",
     "output_type": "stream",
     "text": [
      "0 if you wan -> f you want\n",
      "1 f you want ->  you want \n",
      "2  you want  -> you want t\n",
      "3 you want t -> ou want to\n",
      "4 ou want to -> u want to \n",
      "5 u want to  ->  want to b\n",
      "6  want to b -> want to bu\n",
      "7 want to bu -> ant to bui\n",
      "8 ant to bui -> nt to buil\n",
      "9 nt to buil -> t to build\n",
      "10 t to build ->  to build \n",
      "11  to build  -> to build a\n",
      "12 to build a -> o build a \n",
      "13 o build a  ->  build a s\n",
      "14  build a s -> build a sh\n",
      "15 build a sh -> uild a shi\n",
      "16 uild a shi -> ild a ship\n",
      "17 ild a ship -> ld a ship,\n",
      "18 ld a ship, -> d a ship, \n",
      "19 d a ship,  ->  a ship, d\n",
      "20  a ship, d -> a ship, do\n",
      "21 a ship, do ->  ship, don\n",
      "22  ship, don -> ship, don'\n",
      "23 ship, don' -> hip, don't\n",
      "24 hip, don't -> ip, don't \n",
      "25 ip, don't  -> p, don't d\n",
      "26 p, don't d -> , don't dr\n",
      "27 , don't dr ->  don't dru\n",
      "28  don't dru -> don't drum\n",
      "29 don't drum -> on't drum \n",
      "30 on't drum  -> n't drum u\n",
      "31 n't drum u -> 't drum up\n",
      "32 't drum up -> t drum up \n",
      "33 t drum up  ->  drum up p\n",
      "34  drum up p -> drum up pe\n",
      "35 drum up pe -> rum up peo\n",
      "36 rum up peo -> um up peop\n",
      "37 um up peop -> m up peopl\n",
      "38 m up peopl ->  up people\n",
      "39  up people -> up people \n",
      "40 up people  -> p people t\n",
      "41 p people t ->  people to\n",
      "42  people to -> people tog\n",
      "43 people tog -> eople toge\n",
      "44 eople toge -> ople toget\n",
      "45 ople toget -> ple togeth\n",
      "46 ple togeth -> le togethe\n",
      "47 le togethe -> e together\n",
      "48 e together ->  together \n",
      "49  together  -> together t\n",
      "50 together t -> ogether to\n",
      "51 ogether to -> gether to \n",
      "52 gether to  -> ether to c\n",
      "53 ether to c -> ther to co\n",
      "54 ther to co -> her to col\n",
      "55 her to col -> er to coll\n",
      "56 er to coll -> r to colle\n",
      "57 r to colle ->  to collec\n",
      "58  to collec -> to collect\n",
      "59 to collect -> o collect \n",
      "60 o collect  ->  collect w\n",
      "61  collect w -> collect wo\n",
      "62 collect wo -> ollect woo\n",
      "63 ollect woo -> llect wood\n",
      "64 llect wood -> lect wood \n",
      "65 lect wood  -> ect wood a\n",
      "66 ect wood a -> ct wood an\n",
      "67 ct wood an -> t wood and\n",
      "68 t wood and ->  wood and \n",
      "69  wood and  -> wood and d\n",
      "70 wood and d -> ood and do\n",
      "71 ood and do -> od and don\n",
      "72 od and don -> d and don'\n",
      "73 d and don' ->  and don't\n",
      "74  and don't -> and don't \n",
      "75 and don't  -> nd don't a\n",
      "76 nd don't a -> d don't as\n",
      "77 d don't as ->  don't ass\n",
      "78  don't ass -> don't assi\n",
      "79 don't assi -> on't assig\n",
      "80 on't assig -> n't assign\n",
      "81 n't assign -> 't assign \n",
      "82 't assign  -> t assign t\n",
      "83 t assign t ->  assign th\n",
      "84  assign th -> assign the\n",
      "85 assign the -> ssign them\n",
      "86 ssign them -> sign them \n",
      "87 sign them  -> ign them t\n",
      "88 ign them t -> gn them ta\n",
      "89 gn them ta -> n them tas\n",
      "90 n them tas ->  them task\n",
      "91  them task -> them tasks\n",
      "92 them tasks -> hem tasks \n",
      "93 hem tasks  -> em tasks a\n",
      "94 em tasks a -> m tasks an\n",
      "95 m tasks an ->  tasks and\n",
      "96  tasks and -> tasks and \n",
      "97 tasks and  -> asks and w\n",
      "98 asks and w -> sks and wo\n",
      "99 sks and wo -> ks and wor\n",
      "100 ks and wor -> s and work\n",
      "101 s and work ->  and work,\n",
      "102  and work, -> and work, \n",
      "103 and work,  -> nd work, b\n",
      "104 nd work, b -> d work, bu\n",
      "105 d work, bu ->  work, but\n",
      "106  work, but -> work, but \n",
      "107 work, but  -> ork, but r\n",
      "108 ork, but r -> rk, but ra\n",
      "109 rk, but ra -> k, but rat\n",
      "110 k, but rat -> , but rath\n",
      "111 , but rath ->  but rathe\n",
      "112  but rathe -> but rather\n",
      "113 but rather -> ut rather \n",
      "114 ut rather  -> t rather t\n",
      "115 t rather t ->  rather te\n",
      "116  rather te -> rather tea\n",
      "117 rather tea -> ather teac\n",
      "118 ather teac -> ther teach\n",
      "119 ther teach -> her teach \n",
      "120 her teach  -> er teach t\n",
      "121 er teach t -> r teach th\n",
      "122 r teach th ->  teach the\n",
      "123  teach the -> teach them\n",
      "124 teach them -> each them \n",
      "125 each them  -> ach them t\n",
      "126 ach them t -> ch them to\n",
      "127 ch them to -> h them to \n",
      "128 h them to  ->  them to l\n",
      "129  them to l -> them to lo\n",
      "130 them to lo -> hem to lon\n",
      "131 hem to lon -> em to long\n",
      "132 em to long -> m to long \n",
      "133 m to long  ->  to long f\n",
      "134  to long f -> to long fo\n",
      "135 to long fo -> o long for\n",
      "136 o long for ->  long for \n",
      "137  long for  -> long for t\n",
      "138 long for t -> ong for th\n",
      "139 ong for th -> ng for the\n",
      "140 ng for the -> g for the \n",
      "141 g for the  ->  for the e\n",
      "142  for the e -> for the en\n",
      "143 for the en -> or the end\n",
      "144 or the end -> r the endl\n",
      "145 r the endl ->  the endle\n",
      "146  the endle -> the endles\n",
      "147 the endles -> he endless\n",
      "148 he endless -> e endless \n",
      "149 e endless  ->  endless i\n",
      "150  endless i -> endless im\n",
      "151 endless im -> ndless imm\n",
      "152 ndless imm -> dless imme\n",
      "153 dless imme -> less immen\n",
      "154 less immen -> ess immens\n",
      "155 ess immens -> ss immensi\n",
      "156 ss immensi -> s immensit\n",
      "157 s immensit ->  immensity\n",
      "158  immensity -> immensity \n",
      "159 immensity  -> mmensity o\n",
      "160 mmensity o -> mensity of\n",
      "161 mensity of -> ensity of \n",
      "162 ensity of  -> nsity of t\n",
      "163 nsity of t -> sity of th\n",
      "164 sity of th -> ity of the\n",
      "165 ity of the -> ty of the \n",
      "166 ty of the  -> y of the s\n",
      "167 y of the s ->  of the se\n",
      "168  of the se -> of the sea\n",
      "169 of the sea -> f the sea.\n"
     ]
    }
   ],
   "source": [
    "# 데이터 구성\n",
    "x_data = []\n",
    "y_data = []\n",
    "\n",
    "for i in range(0, len(sentence) - sequence_length):\n",
    "    x_str = sentence[i:i + sequence_length]\n",
    "    y_str = sentence[i + 1: i + sequence_length + 1]\n",
    "    print(i, x_str, '->', y_str)\n",
    "\n",
    "    x_data.append([char_dic[c] for c in x_str])  # x str to index\n",
    "    y_data.append([char_dic[c] for c in y_str])  # y str to index\n"
   ]
  },
  {
   "cell_type": "code",
   "execution_count": 17,
   "metadata": {},
   "outputs": [
    {
     "name": "stdout",
     "output_type": "stream",
     "text": [
      "[2, 10, 3, 21, 16, 8, 3, 24, 9, 6]\n",
      "[10, 3, 21, 16, 8, 3, 24, 9, 6, 15]\n"
     ]
    }
   ],
   "source": [
    "print(x_data[0])\n",
    "print(y_data[0])"
   ]
  },
  {
   "cell_type": "code",
   "execution_count": 12,
   "metadata": {},
   "outputs": [],
   "source": [
    "x_one_hot = [np.eye(dic_size)[x] for x in x_data] # x 데이터는 원-핫 인코딩\n",
    "X = torch.FloatTensor(x_one_hot)\n",
    "Y = torch.LongTensor(y_data)"
   ]
  },
  {
   "cell_type": "markdown",
   "metadata": {},
   "source": [
    "# 모델 구현"
   ]
  },
  {
   "cell_type": "code",
   "execution_count": 19,
   "metadata": {},
   "outputs": [],
   "source": [
    "class Net(torch.nn.Module):\n",
    "    def __init__(self, input_dim, hidden_dim, layers): # 현재 hidden_size는 dic_size와 같음.\n",
    "        super(Net, self).__init__()\n",
    "        self.rnn = torch.nn.RNN(input_dim, hidden_dim, num_layers=layers, batch_first=True)\n",
    "        self.fc = torch.nn.Linear(hidden_dim, hidden_dim, bias=True)\n",
    "\n",
    "    def forward(self, x):\n",
    "        x, _status = self.rnn(x)\n",
    "        x = self.fc(x)\n",
    "        return x"
   ]
  },
  {
   "cell_type": "code",
   "execution_count": 20,
   "metadata": {},
   "outputs": [],
   "source": [
    "net = Net(dic_size, hidden_size, 2) # 이번에는 층을 두 개 쌓습니다."
   ]
  },
  {
   "cell_type": "code",
   "execution_count": 21,
   "metadata": {},
   "outputs": [],
   "source": [
    "criterion = torch.nn.CrossEntropyLoss()\n",
    "optimizer = optim.Adam(net.parameters(), learning_rate)"
   ]
  },
  {
   "cell_type": "code",
   "execution_count": 22,
   "metadata": {},
   "outputs": [
    {
     "name": "stdout",
     "output_type": "stream",
     "text": [
      "torch.Size([170, 10, 25])\n"
     ]
    }
   ],
   "source": [
    "outputs = net(X)\n",
    "print(outputs.shape) # 3차원 텐서"
   ]
  },
  {
   "cell_type": "code",
   "execution_count": 23,
   "metadata": {},
   "outputs": [
    {
     "name": "stdout",
     "output_type": "stream",
     "text": [
      "torch.Size([1700, 25])\n"
     ]
    }
   ],
   "source": [
    "print(outputs.view(-1, dic_size).shape) # 2차원 텐서로 변환."
   ]
  },
  {
   "cell_type": "code",
   "execution_count": 24,
   "metadata": {},
   "outputs": [
    {
     "name": "stdout",
     "output_type": "stream",
     "text": [
      "torch.Size([170, 10])\n",
      "torch.Size([1700])\n"
     ]
    }
   ],
   "source": [
    "print(Y.shape)\n",
    "print(Y.view(-1).shape)"
   ]
  },
  {
   "cell_type": "code",
   "execution_count": 25,
   "metadata": {},
   "outputs": [
    {
     "name": "stdout",
     "output_type": "stream",
     "text": [
      "sss''f''''''''f'f'f'''''''''''''''''''ss's'''''''f''f''''f'''f'''''''''''''''''''''''''''''''''b''''''''''''''''''f'f'''''f'''f''s'''b'''''''''''f''''''b'''''''b''''''''''''''''''\n",
      "                                                                                                                                                                                   \n",
      "smettmeoemtbmmmtmmmtmmmmmmmmmtmmtm'ommmmtemmmbmmmmmmmtm'mtmemmtmmotmmetemmmmmmmm'mtmmmmmmmmmtmmtmmebmmmtmmmmm'memmtmmmmm'memmmbtmmtbmemmebtmmmbtmmmt'mtmmommmbmtmmmtemmemtmmtbmtmmm\n",
      "tttttttotttttttttttotototttotottttttttttttttttttotottttttttotttttttttttttttttototototttttttttttttttttttttttttotttttottttttttotttttttttttottotttttttotttotototottttttttttttttttttttt\n",
      " s s sms o sco ccoooosoooo s s soooo s s ososoo csoosoosoocoooocsooooooooosoooos sto o s oososoososooosoooosos s otosoooosocossooooooososoocsoooooooooosos sos s s oooosooooosoofos\n",
      " n o o o o e e es e eo o e o o u o o u e  s o e o oeo          e    o o u e    o u o o o o e e  o e o e  o s u o e           e  e     s e      o s o s o o o o o o e   e     e  s o\n",
      "                                          s                                                                                                                                        \n",
      "        i                     i   r     i r        r         i       i  i     i i       i                       r r  i        i     i    i          i     e          i           i \n",
      "t to  t tto t ttte  tt  et etottt toet  t  to tt tott  tteto toet  t toett ttot ett tt  t etoet  t etett  t ett t t ttt et t  toeto t  t t et e t toete t ete t eet  toetoetoet  tt\n",
      "t eo tt eoott ttoe  tte et ttoett toett t ttoe  ttott  toeto toet  toeoett ttot ett to  toetoeto t tt to  t  tt tot tot eteto toeto t  t to t tt  toeoe toett to tt ttoeto to t  to\n",
      "t e ett eo to t  e eto  e  td ett eoet  t t  e   t tt  eo to t  t  t eoet  tt e ett eo tt et et tt t  eo  t ett e t eo  et toetoetoet tt t  t     t eoe e et  e   t tt eto toet  e \n",
      "t t e d dt t  t  e  tt  e   d et  d et    d  d   d dt  dt t  t  t    d  t  nd d  tt dt td  t et t  t  d   d  tt d t d   et t tt  t et t  d  d   d t et  d et  d   d  d  t  t et  d \n",
      "t    te et to t t t tt  et  d  tt doet tt t  n   d  tt et t  to t t  do t t t d  tt dt ttt t et to t  dt  d  tt d t d   et t tto toet to d  d   d t et te et  d   tt do to d et  d \n",
      "to   te etoto t t t tt  eto do ts eoet ts to  t  t  tt et to to t ts do t ttt do ts et tst t et eo s  dt  do et dts dos et totto toet to eo e t e t et te et  dt  st eo to e ets st\n",
      "to  stsortoto t t t tos eto eo ts eoem ts eo   e to et et to to e ts eo tstrt wo ts et tstet et eo to dos do et ets wos et tostoetoet to t  e t e toeteoe ets dts st eo to doetsost\n",
      "do  eteo toto tet t tot eto do tt doem tt to i esto et et to to e  s do tsets wo ts do tetet et do ts dot wo et dts wot et toetoetoet to w  i t s d eteoe e s dos se do to woete se\n",
      "do   meo todo tet t bod ets do tt doem tt t  r e to et em to lol  is wo t toe d  tt wm  etetoem do ts dod wo et det w d em toetoethem to t  t to et emeod e t do  ie do to woete d \n",
      "do   mdo t to t t t brd ets do tt do m tt t  r e thnet em th th u  t do t tod d  tt dt  do them to ts dod wo tt det wot em th doethem to t  t to et emeod e s dt  nt do to bheme de\n",
      "to  ntdont to t t t tst ets dontt do m tt t  t e thnet et th th e  t do a tod do tt dt  do thet to ts dot wo tt det b,thet th to thet to t nt to  thetdod e s tt  nt do to themdott\n",
      "to  nmdont to t t t tst ets dontt do m tp t  n e thnet et th to ee s go a tot don't dt  gt thet to ts d t wo et tet t thet th toethet to t nt toa thetdod e s tt  nt do to themdoat\n",
      "tos n dont to t t t tst wts dontt do m tp ts r e thnet eo th to le s wona dot don't dts gt toet to ts dot wonet tet t thet th toethet to t nt toa toeteod e s dt  nt go to toemdoit\n",
      "tos nmdont to b t t tpt wts don't do m tp ts r e t nethem to to l is wona dod wo 't dts go toet to ts dot wontt det tptoet th toethet to tont tor toeteod e s dto nt go to toemeort\n",
      "tosor dont bo b t t tot wps don'todo m kp tsor e thnether tonto l is wooa dod wor't dts go toer toets dot workp dem t toer thatoether to tont tor toemeod e s dto nt go to toemeors\n",
      "tosor dont bo b t t crt eps don'todo m em tsos e thnether thnbo l is woha tod won't dms go toem toets dod wookp d t t toer thato ther to tong tos themeod e s dt  ns go to toemeons\n",
      "tssod dont bo b r t cot e s don't do m um tsos e thnether th bo l is woha aod won't drs go them toets dod wonkp d t a ther thato ther to tong tor themeod e s tt  ns go to the sonr\n",
      "tsaod dont bh bur t aot eps don't do m um tsorle thnether th bh leit wond aod won't drs go them tosts dod wonkm dut aptoer thnso them to bonb tor themerd e s tts ns go to themsoar\n",
      "tsaodldont bo bur t t d ep, don't dr m u, tsorle thnethem t  wo leit woht and won't dms gs them tosts dnd wonk, dut tpthem t  to them to bonb tor themerd e s t,  ns go ta the eoap\n",
      "tyrodudont bo bum t t s ep, don't do m u  teorle thnethem t eco leit wont and won't dms go toem tosts dnd wonk, dut t toem t nso them to bonb tor t emeod e s t,s nd go to the sont\n",
      "tyoodudont to bum t tot ep, don't do m u, teorle thnethem th co leit woht aod don't dms go toem tosts and wonk, dut tatoem t aso them to tong tor themeod e s t,s od go to the eont\n",
      "tyooseaont to but t tas et, don't do m um teorle tonethem to to leit wohd and don't dms go toem tosts dnd dork, dut tatoem tooso them to tong tor themerd e s t,s ad go to the eoaf\n",
      "tyaoslaont do but t tas wt, don't do m um teorle t aethem to to lect wood and aon't dms go toem tosks and work, dut tathem tonao them to bong tor the erd e s t,s adigo to the e ar\n",
      "tsooslaont wo bui t tat wt, don't gr m um teorle t aethem t  co lect wohd and aon't d,s go them tosks amd wook, dut tathem t aao them to tong tor themerd e s t,m asigo to the eoam\n",
      "tsrod aont do bui d tas ip, don't dnum um teorle tonether t  co lect wond and aon't dmsigo them tosks and wonk, dut tathem t aao them to tong tor themeod e s t,m asigo to the soar\n",
      "tsoosoaont do bui d tcs ip, don't dr m up teople tonether te co lect wood and don't d,sigo them tosks and wonk, dut tathem teaso the  to long for themeod e s dmm asigo to the soam\n",
      "tsfoslaont lo but d tad ip, don't drum up people tonether te co lect wood and don't d,sigo them tosks and wonk, dut lather t ach the  to lonc for t e end e s dmm nsigo to the sonm\n",
      "gsfosiaont to bui d tct ep, don't dnum up people tonether te go lect wood and don't d,sigo them tosks and work, dut t them teach them to long for the end e s d,m nsigy tf the eoa,\n",
      "gmfosaaont to bui d tad ip, don't dnum up teople together to go lect wond and don't d,sigo them tanks and work, dut tather teach them tollong for the end e s tmm nsigy tf the soa,\n",
      "gyfos aont to bui d t,t ep, don't drum up teople together te go lect wood and don't d,sigo them tasks and work, dut tather teach them tallong for the end e s dmmensigy tf the eoa,\n",
      "gyfos aont to bui d t,t ip, don't drum up teople togethem to co lect wood and don't dmsigo the  tasks and work, dut tathem teach them tollong for the end e s dmmensigy tf the sham\n",
      "gyfos wont to bui d t,t ip, don't drum up teople together to co lect wood and don't dmsigo them tosks and work, dut tather teach them to long for the endle s dmmensigy tf the soa,\n",
      "gyfos wont to bui d tnthip, don't drum up teople together to to lect wood and don't dmsigo them tosks and work, dut tather teach them tollong for the endle s dmmensigy tf the soa,\n",
      "gyfos aont to bui d tnthip, don't drum up teople together to tollect wood and don't dmsigo the  tosks and wonk, but tather teach them tollong for the endless tmmensigy tf the sha,\n",
      "gyfos aont to bui d tnshap, don't drum up teople together te collect wood and don't d,sigo them tasks and work, but rather teach them to long for the endless dmmensity tf the sha,\n",
      "gyfos aont to build tnshap, don't drum up teople togethem to co lect wood and don't dmsigo the  tasks and work, dut rather toach them to lon' for the endless immensigy tf the sia,\n",
      "gyfos wont to luild tnship, don't drum up teople together te collect wood and don't d,sigo them tosks and work, dut rather teach ther tollong for the eodless immensity tf the eon,\n",
      "gyfos wont to build tsship, don't drum up teople togethem te collect wood and don't dssigo them tasks and work, but rather teach them to long for the endless immensigy tf the sia,\n",
      "'yfot want to build tadhip, don't drum up teople together te collect word and won't dnsito the  tocks and work, but rother teach the  ta long for the endleis tmmensiay tf the toas\n",
      "gyfhs sont to build tnship, don't drum up teople together to collect dood tnd don't bssign them tosks tnd dork, but tather to ch ther to long for themendless dmm nsity tf the eias\n",
      "'mfod wont to luild tnship, don't drum up teople togethem te collect wood and don't dssign them tosks and dork, dut tather teach them to long for the endless dmmensity tf themeins\n",
      "'mfof wont tolluild anship, don't drum up teople toaethem teocollect wond aad don't assign them tosks and dork, dut rather teach the  tallong for the endless tmmenuity tf themeoas\n",
      "'mfot want to lui d asship, don't drum up teople togethem te collect wood and don't dssign them trsks and dork, dut tather teach them ta long for the endless tmmensity tf themeons\n",
      "'mfod wont to build tsship, don't drum up teople together te collect wood wnd won't dssign them tasks and work, but tather teach them ta long for the end ess immensity tf the shap\n",
      "'mfod wont to build anship, don't drum up teople together te collect wood and don't dssign them tasks and dook, but rather teach ther to bong for the endless immensity tf the sias\n",
      "'mfod dont to build bsship, don't drum up teople together te collect wood and don't dssign them tosks and dook, but rather teach them to bong for the endless immensity tf the soas\n",
      "gmfod aant to build asship, don't drum up teople together te collect wood and don't dssign them tosks and dork, but rather teach them to bong for the endless immensity tf the sons\n",
      "gmfod aant to build asship, don't drum up people together te collect wood and don't dssign them tasks and dork, dut rather teach them ta bong for the endless immensity tf the eias\n",
      "gmfod want to build asship, don't drum up people together te collect wood and don't dssign them tasks and dork, dut rather teach them ta bong for the endless immensity tf the eias\n",
      "gmfod dont to build a ship, don't drum up people together te collect wood and won't dssign them tosks and work, dut rather teach them to bong for the endless immensity tf the sias\n",
      "gmfod dont to build asship, don't drum up people together to collect wood and won't dssign them tosks and work, dut rather toach them to bong for the endless immensity of the tias\n",
      "gmfos wont to build asship, don't drum up people together te collect wood and won't dssign them tosks and work, dut rather teach them to bong for the endless immensity of the sias\n",
      "gmfos wont to build asship, don't drum up people together te collect wood and won't dssign them tosks and work, but rather teach them to long for the endless immensity of the sias\n",
      "pmoos want to build asship, don't arum up people together te collect wood and won't assign them tasks and work, but rather teach them ta long for the endless immensity of the sias\n",
      "pmoau want to build asship, don't drum up people together to collect wood and won't dssign them tasks and work, but rather toach them ta long for the endless immensity of the sias\n",
      "pmoou want to build a ship, don't drum up people together to collect wood and won't dssign them tosks and work, but rather toach them to long for the endless immensity of the sias\n",
      "pyoof want to build anship, don't drum up people together to collect wood and don't dssign them tosks and dork, but rather toach them to long for the endless immensity of the seas\n",
      "pyoof want to build a ship, don't drum up people together to collect wood and don't dssign them tosks and dork, but rather toach them to long for the endless immensity of the seas\n",
      "gyoou want to build asship, don't drum up people together to collect wood and don't dssign them tosks and dork, but rather toach them to long for the endless immensity of the seas\n",
      "gyoou want to build asship, don't drum up people together to collect wood and don't dssign them tosks and dork, but rather toach them to long for the endless immensity of the seas\n",
      "gyoau want to build a ship, don't drum up people together to collect wood and don't dssign them tasks and work, but rather toach them ta long for the endless immensity of the seas\n",
      "gyoau want to build a ship, don't drum up people together to collect wood and don't dssign them tasks and work, but rather toach them ta long for the endless immensity of the seas\n",
      "gmoou want to build a ship, don't drum up people together to collect wood and don't dssign them tasks and work, but rather toach them ta long for the endless immensity of the seas\n",
      "gmfou want to build a ship, don't drum up people together to collect wood and don't dssign them tosks and work, but rather toach them to long for the endless immensity of the seas\n",
      "gmfou want to build a ship, don't drum up people together to collect wood and don't dssign them tosks and work, but rather toach them to long for the endless immensity of the seas\n",
      "gmfou want to build a ship, don't drum up people together to collect wood and don't dssign them tosks and work, but rather toach them to long for the endless immensity of the seas\n",
      "gmfou want to build a ship, don't arum up people together to collect wood and don't dssign them tosks and work, but rather toach them to long for the endless immensity of the seas\n",
      "pyfou want to build a ship, don't arum up people together to collect wood and don't dssign them tosks and work, but rather toach them to long for the endless immensity of the seas\n",
      "pyfou want to build a ship, don't drum up people together to collect wood and don't dssign them tosks and work, but rather toach them to long for the endless immensity of the seas\n",
      "pyoou want to build a ship, don't drum up people together to collect wood and don't dssign them tosks and work, but rather toach them to long for the endless immensity of the seas\n",
      "pyfou want to build a ship, don't drum up people together to collect wood and don't dssign them tosks and work, but rather toach them to long for the endless immensity of the sea.\n",
      "pyfou want to build a ship, don't drum up people together to collect wood and don't dssign them tosks and work, but rather teach them to long for the endless immensity of the seas\n",
      "pyyou want to build a ship, don't drum up people together to collect wood and don't dssign them tosks and work, but rather teach them to long for the endless immensity of the sea.\n",
      "pyyou want to build a ship, don't drum up people together to collect wood and don't dssign them tosks and work, but rather teach them to long for the endless immensity of the seas\n",
      "tyyou want to build a ship, don't drum up people together to collect wood and don't dssign them tosks and work, but rather toach them to long for the endless immensity of the sea.\n",
      "gyyou want to build a ship, don't drum up people together to collect wood and don't dssign them tosks and work, but rather toach them to long for the endless immensity of the sea.\n",
      "gyyou want to build a ship, don't drum up people together to collect wood and don't dssign them tosks and work, but rather toach them to long for the endless immensity of the sea.\n",
      "myyou want to build a ship, don't drum up people together to collect wood and don't dssign them tosks and work, but rather toach them to long for the endless immensity of the sea.\n",
      "mmyou want to build a ship, don't drum up people together to collect wood and don't dssign them tasks and work, but rather toach them ta long for the endless immensity of the sea.\n",
      "pyyou want to build a ship, don't drum up people together to collect wood and don't dssign them tosks and work, but rather toach them to long for the endless immensity of the sea.\n",
      "pyyou want to build a ship, don't drum up people together to collect wood and don't dssign them tosks and work, but rather toach them to long for the endless immensity of the sea.\n",
      "pyyou want to build a ship, don't drum up people together to collect wood and don't dssign them tosks and work, but rather teach them to long for the endless immensity of the sea.\n",
      "pyyou want to build a ship, don't drum up people together to collect wood and don't dssign them tosks and work, but rather teach them to long for the endless immensity of the sea.\n",
      "pmyou want to build a ship, don't drum up people together to collect wood and don't dssign them tosks and work, but rather teach them to long for the endless immensity of the sea.\n",
      "p,you want to build a ship, don't arum up people together to collect wood and don't assign them tosks and work, but rather teach them to long for the endless immensity of the sea.\n",
      "pmyou want to build a ship, don't arum up people together to collect wood and don't assign them tasks and work, but rather teach them ta long for the endless immensity of the sea.\n",
      "tyyou want to build a ship, don't drum up people together to collect wood and don't dssign them tasks and work, but rather teach them to long for the endless immensity of the sea.\n",
      "tyyou want to build a ship, don't drum up people together to collect wood and don't dssign them tosks and work, but rather teach them to long for the endless immensity of the sea.\n",
      "pmyou want to build a ship, don't drum up people together to collect wood and don't dssign them tosks and work, but rather teach them to long for the endless immensity of the sea.\n",
      "pmyou want to build a ship, don't drum up people together to collect wood and don't dssign them tosks and work, but rather teach them to long for the endless immensity of the sea.\n",
      "pmyou want to build a ship, don't drum up people together to collect wood and don't dssign them tosks and work, but rather teach them to long for the endless immensity of the sea.\n",
      "pyyou want to build a ship, don't arum up people together to collect wood and don't assign them tosks and work, but rather teach them to long for the endless immensity of the sea.\n"
     ]
    }
   ],
   "source": [
    "for i in range(100):\n",
    "    optimizer.zero_grad()\n",
    "    outputs = net(X) # (170, 10, 25) 크기를 가진 텐서를 매 에포크마다 모델의 입력으로 사용\n",
    "    loss = criterion(outputs.view(-1, dic_size), Y.view(-1))\n",
    "    loss.backward()\n",
    "    optimizer.step()\n",
    "\n",
    "    # results의 텐서 크기는 (170, 10)\n",
    "    results = outputs.argmax(dim=2)\n",
    "    predict_str = \"\"\n",
    "    for j, result in enumerate(results):\n",
    "        if j == 0: # 처음에는 예측 결과를 전부 가져오지만\n",
    "            predict_str += ''.join([char_set[t] for t in result])\n",
    "        else: # 그 다음에는 마지막 글자만 반복 추가\n",
    "            predict_str += char_set[result[-1]]\n",
    "\n",
    "    print(predict_str)"
   ]
  }
 ],
 "metadata": {
  "interpreter": {
   "hash": "a64de8b745ab094eb3381810b1d090f0053b4977cc21c07d5a367fb401258f96"
  },
  "kernelspec": {
   "display_name": "Python 3.8.5 64-bit ('chch': conda)",
   "name": "python3"
  },
  "language_info": {
   "codemirror_mode": {
    "name": "ipython",
    "version": 3
   },
   "file_extension": ".py",
   "mimetype": "text/x-python",
   "name": "python",
   "nbconvert_exporter": "python",
   "pygments_lexer": "ipython3",
   "version": "3.8.5"
  },
  "orig_nbformat": 4
 },
 "nbformat": 4,
 "nbformat_minor": 2
}
