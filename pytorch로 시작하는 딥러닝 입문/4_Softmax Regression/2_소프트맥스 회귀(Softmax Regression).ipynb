{
 "cells": [
  {
   "cell_type": "markdown",
   "source": [
    "# 02. 소프트맥스 회귀(Softmax Regression) 이해하기\r\n",
    "\r\n",
    "### 1. 로지스틱 회귀\r\n",
    "시그모이드 함수는 예측값을 0과 1 사이의 값으로 만듭니다. 예를 들어 스팸 메일 분류기를 로지스틱 회귀로 구현하였을 때, 출력이 0.75이라면 이는 이메일이 스팸일 확률이 75%라는 의미가 됩니다. 반대로, 스팸 메일이 아닐 확률은 25%가 됩니다. 이 두 확률의 총 합은 1입니다.\r\n",
    "\r\n",
    "\r\n",
    "\r\n",
    "### 2. 소프트맥스 회귀 = 다항 로지스틱 회귀(Multinomial Logistic Regression) \r\n",
    "확률의 총 합이 1이 되는 이 아이디어를 다중 클래스 분류 문제에 적용\r\n",
    "\r\n",
    "\r\n",
    "\r\n",
    "### 2. 소프트맥스 함수(Softmax function)\r\n",
    "소프트맥스 함수는 분류해야하는 정답지(클래스)의 총 개수를 k라고 할 때, k차원의 벡터를 입력받아 각 클래스에 대한 확률을 추정합니다\r\n",
    "\r\n",
    "실제값을 원핫인코딩으로 표현하여 실제값과 가장 오차가 적은 값이 정답으로 한다. \r\n",
    "\r\n",
    "X = 5X4, Y' = 5X3, W = 4X3(X와 Y'의 곱), B=5X3(Y'와 동일)\r\n",
    "\r\n",
    "\r\n",
    "\r\n",
    "Y' = softmax(XW + B)\r\n"
   ],
   "metadata": {}
  },
  {
   "cell_type": "markdown",
   "source": [
    "# 03. 소프트맥스 회귀의 비용 함수 구현하기"
   ],
   "metadata": {}
  },
  {
   "cell_type": "markdown",
   "source": [
    "### 1. 파이토치로 소프트맥스의 비용 함수 구현하기 (로우-레벨)"
   ],
   "metadata": {}
  },
  {
   "cell_type": "code",
   "execution_count": 6,
   "source": [
    "import torch\r\n",
    "import torch.nn.functional as F\r\n",
    "\r\n",
    "torch.manual_seed(1)\r\n",
    "\r\n",
    "z = torch.FloatTensor([1, 2, 3])\r\n",
    "hypothesis = F.softmax(z, dim=0)\r\n",
    "print(hypothesis)\r\n",
    "\r\n",
    "# 비용함수\r\n",
    "z = torch.rand(3,5, requires_grad=True)\r\n",
    "hypothesis = F.softmax(z, dim=1) # 두번째 차원에 적용-> (3,5)에서 (,5)부분에 적용!\r\n",
    "print(hypothesis)\r\n",
    "\r\n",
    "# 임의의 레이블을 만들어주기\r\n",
    "y = torch.randint(5,(3,)).long() # 0~4까지 숫자를 (3,)에 부여\r\n",
    "print(y)\r\n",
    "\r\n",
    "# 각 레이블에 대해서 원핫인코딩 수행\r\n",
    "y_one_hot = torch.zeros_like(hypothesis) #모든 원소가 0의 값을 가진 3x5 텐서를 만든다\r\n",
    "y_one_hot.scatter_(1,y.unsqueeze(1),2) \r\n",
    "# 연산 뒤에 _를 붙이면 In-place Operation (덮어쓰기 연산)\r\n",
    "\r\n",
    "# torch.scatter(input, dim, index, src) → Tensor\r\n",
    "\r\n",
    "# y_one_hot.scatter_(dim=1, (3x1 텐서), 1을 부여)\r\n",
    "\r\n",
    "print(y.unsqueeze(1))\r\n",
    "\r\n",
    "print(y_one_hot)\r\n",
    "'''\r\n",
    "tensor([[1., 0., 0., 0., 0.],\r\n",
    "        [0., 0., 1., 0., 0.],\r\n",
    "        [0., 1., 0., 0., 0.]])\r\n",
    "'''\r\n",
    "\r\n",
    "'''\r\n",
    "tensor([[1., 0., 0., 0., 0.],\r\n",
    "        [1., 0., 0., 0., 0.],\r\n",
    "        [1., 0., 0., 0., 0.]])\r\n",
    "'''\r\n",
    "# 소프트맥스 회귀의 비용 함수\r\n",
    "cost = (y_one_hot * -torch.log(hypothesis)).sum(dim=1).mean()\r\n",
    "\r\n",
    "#2. 파이토치로 소프트맥스의 비용 함수 구현하기 (하이-레벨)\r\n",
    "\r\n",
    "\r\n",
    "print(cost)"
   ],
   "outputs": [
    {
     "output_type": "stream",
     "name": "stdout",
     "text": [
      "tensor([0.0900, 0.2447, 0.6652])\n",
      "tensor([[0.2645, 0.1639, 0.1855, 0.2585, 0.1277],\n",
      "        [0.2430, 0.1624, 0.2322, 0.1930, 0.1694],\n",
      "        [0.2226, 0.1986, 0.2326, 0.1594, 0.1868]], grad_fn=<SoftmaxBackward>)\n",
      "tensor([0, 2, 1])\n",
      "tensor([[0],\n",
      "        [2],\n",
      "        [1]])\n",
      "tensor([[2., 0., 0., 0., 0.],\n",
      "        [0., 0., 2., 0., 0.],\n",
      "        [0., 2., 0., 0., 0.]])\n",
      "tensor(2.9378, grad_fn=<MeanBackward0>)\n"
     ]
    }
   ],
   "metadata": {}
  },
  {
   "cell_type": "markdown",
   "source": [
    "### 2. 파이토치로 소프트맥스의 비용 함수 구현하기 (하이-레벨)"
   ],
   "metadata": {}
  },
  {
   "cell_type": "markdown",
   "source": [
    "**1. F.softmax() + torch.log() = F.log_softmax()**"
   ],
   "metadata": {}
  },
  {
   "cell_type": "code",
   "execution_count": 72,
   "source": [
    "# Low level\r\n",
    "torch.log(F.softmax(z, dim=1))"
   ],
   "outputs": [
    {
     "output_type": "execute_result",
     "data": {
      "text/plain": [
       "tensor([[-1.3301, -1.8084, -1.6846, -1.3530, -2.0584],\n",
       "        [-1.4147, -1.8174, -1.4602, -1.6450, -1.7758],\n",
       "        [-1.5025, -1.6165, -1.4586, -1.8360, -1.6776]], grad_fn=<LogBackward>)"
      ]
     },
     "metadata": {},
     "execution_count": 72
    }
   ],
   "metadata": {}
  },
  {
   "cell_type": "code",
   "execution_count": 73,
   "source": [
    "# High level -> 파이토치에서는 두 개의 함수를 결합한 F.log_softmax()도구를 제공한다\r\n",
    "F.log_softmax(z, dim=1)"
   ],
   "outputs": [
    {
     "output_type": "execute_result",
     "data": {
      "text/plain": [
       "tensor([[-1.3301, -1.8084, -1.6846, -1.3530, -2.0584],\n",
       "        [-1.4147, -1.8174, -1.4602, -1.6450, -1.7758],\n",
       "        [-1.5025, -1.6165, -1.4586, -1.8360, -1.6776]],\n",
       "       grad_fn=<LogSoftmaxBackward>)"
      ]
     },
     "metadata": {},
     "execution_count": 73
    }
   ],
   "metadata": {}
  },
  {
   "cell_type": "markdown",
   "source": [
    "**2. F.log_softmax() + F.nll_loss() = F.cross_entropy()**"
   ],
   "metadata": {}
  },
  {
   "cell_type": "code",
   "execution_count": 74,
   "source": [
    "# Low level\r\n",
    "# 첫번째 수식\r\n",
    "\r\n",
    "print(y_one_hot)\r\n",
    "'''\r\n",
    "tensor([[1., 0., 0., 0., 0.],\r\n",
    "        [0., 0., 1., 0., 0.],\r\n",
    "        [0., 1., 0., 0., 0.]])\r\n",
    "'''\r\n",
    "(y_one_hot * -torch.log(F.softmax(z, dim=1))).sum(dim=1).mean()"
   ],
   "outputs": [
    {
     "output_type": "stream",
     "name": "stdout",
     "text": [
      "tensor([[1., 0., 0., 0., 0.],\n",
      "        [0., 0., 1., 0., 0.],\n",
      "        [0., 1., 0., 0., 0.]])\n"
     ]
    },
    {
     "output_type": "execute_result",
     "data": {
      "text/plain": [
       "tensor(1.4689, grad_fn=<MeanBackward0>)"
      ]
     },
     "metadata": {},
     "execution_count": 74
    }
   ],
   "metadata": {}
  },
  {
   "cell_type": "code",
   "execution_count": 75,
   "source": [
    "# 두번째 수식\r\n",
    "(y_one_hot * - F.log_softmax(z, dim=1)).sum(dim=1).mean()"
   ],
   "outputs": [
    {
     "output_type": "execute_result",
     "data": {
      "text/plain": [
       "tensor(1.4689, grad_fn=<MeanBackward0>)"
      ]
     },
     "metadata": {},
     "execution_count": 75
    }
   ],
   "metadata": {}
  },
  {
   "cell_type": "code",
   "execution_count": 76,
   "source": [
    "# F.nll_loss()를 사용할 때는 원-핫 벡터를 넣을 필요없이 바로 실제값을 인자로 사용\r\n",
    "# High level\r\n",
    "# 세번째 수식\r\n",
    "F.nll_loss(F.log_softmax(z, dim=1), y)\r\n",
    "\r\n",
    "# nll = Negative Log Likelihood\r\n",
    "\r\n",
    "# nll_loss는 F.log_softmax()를 수행한 후에 남은 수식들을 수행\r\n",
    "\r\n",
    "# F.cross_entropy()는 F.log_softmax()와 F.nll_loss()를 포함하고 있다.\r\n"
   ],
   "outputs": [
    {
     "output_type": "execute_result",
     "data": {
      "text/plain": [
       "tensor(1.4689, grad_fn=<NllLossBackward>)"
      ]
     },
     "metadata": {},
     "execution_count": 76
    }
   ],
   "metadata": {}
  },
  {
   "cell_type": "code",
   "execution_count": 77,
   "source": [
    "# 네번째 수식\r\n",
    "F.cross_entropy(z, y)"
   ],
   "outputs": [
    {
     "output_type": "execute_result",
     "data": {
      "text/plain": [
       "tensor(1.4689, grad_fn=<NllLossBackward>)"
      ]
     },
     "metadata": {},
     "execution_count": 77
    }
   ],
   "metadata": {}
  },
  {
   "cell_type": "markdown",
   "source": [
    "# 04. 소프트맥스 회귀 구현하기"
   ],
   "metadata": {}
  },
  {
   "cell_type": "code",
   "execution_count": 78,
   "source": [
    "import torch\r\n",
    "import torch.nn as nn\r\n",
    "import torch.nn.functional as F\r\n",
    "import torch.optim as optim\r\n",
    "\r\n",
    "torch.manual_seed(1)\r\n",
    "\r\n",
    "x_train = [[1, 2, 1, 1],\r\n",
    "           [2, 1, 3, 2],\r\n",
    "           [3, 1, 3, 4],\r\n",
    "           [4, 1, 5, 5],\r\n",
    "           [1, 7, 5, 5],\r\n",
    "           [1, 2, 5, 6],\r\n",
    "           [1, 6, 6, 6],\r\n",
    "           [1, 7, 7, 7]]\r\n",
    "y_train = [2, 2, 2, 1, 1, 1, 0, 0] # 3개의 클래스 존재\r\n",
    "x_train = torch.FloatTensor(x_train)\r\n",
    "y_train = torch.LongTensor(y_train)"
   ],
   "outputs": [],
   "metadata": {}
  },
  {
   "cell_type": "markdown",
   "source": [
    "## 1. 소프트맥스 회귀 구현하기(로우-레벨)"
   ],
   "metadata": {}
  },
  {
   "cell_type": "code",
   "execution_count": 79,
   "source": [
    "print(x_train.shape)\r\n",
    "print(y_train.shape)\r\n",
    "\r\n",
    "# print(x_train.size())\r\n",
    "\r\n",
    "y_one_hot = torch.zeros(8, 3) # 라벨이 3개니까 3 추가\r\n",
    "y_one_hot.scatter_(1, y_train.unsqueeze(1), 1)\r\n",
    "print(y_one_hot.shape)\r\n",
    "print(y_one_hot)"
   ],
   "outputs": [
    {
     "output_type": "stream",
     "name": "stdout",
     "text": [
      "torch.Size([8, 4])\n",
      "torch.Size([8])\n",
      "torch.Size([8, 3])\n",
      "tensor([[0., 0., 1.],\n",
      "        [0., 0., 1.],\n",
      "        [0., 0., 1.],\n",
      "        [0., 1., 0.],\n",
      "        [0., 1., 0.],\n",
      "        [0., 1., 0.],\n",
      "        [1., 0., 0.],\n",
      "        [1., 0., 0.]])\n"
     ]
    }
   ],
   "metadata": {}
  },
  {
   "cell_type": "code",
   "execution_count": 80,
   "source": [
    "# 모델 초기화\r\n",
    "W = torch.zeros((4, 3), requires_grad=True) \r\n",
    "# x = torch.Size([8, 4]) X y=torch.Size([8, 3])\r\n",
    "b = torch.zeros(1, requires_grad=True) # 1은 고정이 아니며 다 다르게 가능하다-> torch.zeros((1,3) requires_grad=True)\r\n",
    "# optimizer 설정\r\n",
    "optimizer = optim.SGD([W, b], lr=0.1)\r\n",
    "print(optimizer)"
   ],
   "outputs": [
    {
     "output_type": "stream",
     "name": "stdout",
     "text": [
      "SGD (\n",
      "Parameter Group 0\n",
      "    dampening: 0\n",
      "    lr: 0.1\n",
      "    momentum: 0\n",
      "    nesterov: False\n",
      "    weight_decay: 0\n",
      ")\n"
     ]
    }
   ],
   "metadata": {}
  },
  {
   "cell_type": "code",
   "execution_count": 81,
   "source": [
    "nb_epochs = 1000\r\n",
    "for epoch in range(nb_epochs + 1):\r\n",
    "\r\n",
    "    # 가설\r\n",
    "    hypothesis = F.softmax(x_train.matmul(W) + b, dim=1) \r\n",
    "\r\n",
    "    # 비용 함수\r\n",
    "    cost = (y_one_hot * -torch.log(hypothesis)).sum(dim=1).mean()\r\n",
    "\r\n",
    "    # cost로 H(x) 개선\r\n",
    "    optimizer.zero_grad()\r\n",
    "    cost.backward()\r\n",
    "    optimizer.step()\r\n",
    "\r\n",
    "    # 100번마다 로그 출력\r\n",
    "    if epoch % 100 == 0:\r\n",
    "        print('Epoch {:4d}/{} Cost: {:.6f}'.format(\r\n",
    "            epoch, nb_epochs, cost.item()\r\n",
    "        ))"
   ],
   "outputs": [
    {
     "output_type": "stream",
     "name": "stdout",
     "text": [
      "Epoch    0/1000 Cost: 1.098612\n",
      "Epoch  100/1000 Cost: 0.761050\n",
      "Epoch  200/1000 Cost: 0.689991\n",
      "Epoch  300/1000 Cost: 0.643229\n",
      "Epoch  400/1000 Cost: 0.604117\n",
      "Epoch  500/1000 Cost: 0.568255\n",
      "Epoch  600/1000 Cost: 0.533922\n",
      "Epoch  700/1000 Cost: 0.500291\n",
      "Epoch  800/1000 Cost: 0.466908\n",
      "Epoch  900/1000 Cost: 0.433507\n",
      "Epoch 1000/1000 Cost: 0.399962\n"
     ]
    }
   ],
   "metadata": {}
  },
  {
   "cell_type": "markdown",
   "source": [
    "## 2. 소프트맥스 회귀 구현하기(하이-레벨)"
   ],
   "metadata": {}
  },
  {
   "cell_type": "code",
   "execution_count": 82,
   "source": [
    "# 모델 초기화\r\n",
    "W = torch.zeros((4, 3), requires_grad=True)\r\n",
    "b = torch.zeros(1, requires_grad=True)\r\n",
    "# optimizer 설정\r\n",
    "optimizer = optim.SGD([W, b], lr=0.1)\r\n",
    "\r\n",
    "nb_epochs = 1000\r\n",
    "for epoch in range(nb_epochs + 1):\r\n",
    "    \r\n",
    "    # 기존 코드에는 hypothesis = F.softmax(x_train.matmul(W) + b, dim=1) 이지만,\r\n",
    "    # F.cross_entropy()는 그 자체로 소프트맥스 함수를 포함하고 있으므로 \r\n",
    "    # 가설에서는 소프트맥스 함수를 사용할 필요가 없다.\r\n",
    "\r\n",
    "\r\n",
    "    # Cost 계산\r\n",
    "    z = x_train.matmul(W) + b\r\n",
    "    cost = F.cross_entropy(z, y_train) \r\n",
    "\r\n",
    "    # cost로 H(x) 개선\r\n",
    "    optimizer.zero_grad()\r\n",
    "    cost.backward()\r\n",
    "    optimizer.step()\r\n",
    "\r\n",
    "    # 100번마다 로그 출력\r\n",
    "    if epoch % 100 == 0:\r\n",
    "        print('Epoch {:4d}/{} Cost: {:.6f}'.format(\r\n",
    "            epoch, nb_epochs, cost.item()\r\n",
    "        ))"
   ],
   "outputs": [
    {
     "output_type": "stream",
     "name": "stdout",
     "text": [
      "Epoch    0/1000 Cost: 1.098612\n",
      "Epoch  100/1000 Cost: 0.761050\n",
      "Epoch  200/1000 Cost: 0.689991\n",
      "Epoch  300/1000 Cost: 0.643229\n",
      "Epoch  400/1000 Cost: 0.604117\n",
      "Epoch  500/1000 Cost: 0.568255\n",
      "Epoch  600/1000 Cost: 0.533922\n",
      "Epoch  700/1000 Cost: 0.500291\n",
      "Epoch  800/1000 Cost: 0.466908\n",
      "Epoch  900/1000 Cost: 0.433507\n",
      "Epoch 1000/1000 Cost: 0.399962\n"
     ]
    }
   ],
   "metadata": {}
  },
  {
   "cell_type": "markdown",
   "source": [
    "## 3. 소프트맥스 회귀 nn.Module로 구현하기"
   ],
   "metadata": {}
  },
  {
   "cell_type": "code",
   "execution_count": 83,
   "source": [
    "# 모델을 선언 및 초기화. 4개의 특성을 가지고 3개의 클래스로 분류. \r\n",
    "# input_dim=4, output_dim=3.\r\n",
    "model = nn.Linear(4, 3)\r\n",
    "\r\n",
    "# optimizer 설정\r\n",
    "optimizer = optim.SGD(model.parameters(), lr=0.1)\r\n",
    "\r\n",
    "nb_epochs = 1000\r\n",
    "for epoch in range(nb_epochs + 1):\r\n",
    "\r\n",
    "    # H(x) 계산\r\n",
    "    prediction = model(x_train)\r\n",
    "\r\n",
    "    # cost 계산\r\n",
    "    cost = F.cross_entropy(prediction, y_train)\r\n",
    "\r\n",
    "    # cost로 H(x) 개선\r\n",
    "    optimizer.zero_grad()\r\n",
    "    cost.backward()\r\n",
    "    optimizer.step()\r\n",
    "\r\n",
    "    # 20번마다 로그 출력\r\n",
    "    if epoch % 100 == 0:\r\n",
    "        print('Epoch {:4d}/{} Cost: {:.6f}'.format(\r\n",
    "            epoch, nb_epochs, cost.item()\r\n",
    "        ))"
   ],
   "outputs": [
    {
     "output_type": "stream",
     "name": "stdout",
     "text": [
      "Epoch    0/1000 Cost: 1.616785\n",
      "Epoch  100/1000 Cost: 0.658891\n",
      "Epoch  200/1000 Cost: 0.573444\n",
      "Epoch  300/1000 Cost: 0.518151\n",
      "Epoch  400/1000 Cost: 0.473266\n",
      "Epoch  500/1000 Cost: 0.433516\n",
      "Epoch  600/1000 Cost: 0.396563\n",
      "Epoch  700/1000 Cost: 0.360914\n",
      "Epoch  800/1000 Cost: 0.325392\n",
      "Epoch  900/1000 Cost: 0.289178\n",
      "Epoch 1000/1000 Cost: 0.254148\n"
     ]
    }
   ],
   "metadata": {}
  },
  {
   "cell_type": "markdown",
   "source": [
    "## 4. 소프트맥스 회귀 클래스로 구현하기"
   ],
   "metadata": {}
  },
  {
   "cell_type": "code",
   "execution_count": 84,
   "source": [
    "class SoftmaxClassifierModel(nn.Module):\r\n",
    "    def __init__(self):\r\n",
    "        super().__init__()\r\n",
    "        self.linear = nn.Linear(4, 3) # Output이 3!\r\n",
    "\r\n",
    "    def forward(self, x):\r\n",
    "        return self.linear(x)\r\n",
    "\r\n",
    "model = SoftmaxClassifierModel()\r\n",
    "\r\n",
    "# optimizer 설정\r\n",
    "optimizer = optim.SGD(model.parameters(), lr=0.1)\r\n",
    "\r\n",
    "nb_epochs = 1000\r\n",
    "for epoch in range(nb_epochs + 1):\r\n",
    "\r\n",
    "    # H(x) 계산\r\n",
    "    prediction = model(x_train)\r\n",
    "\r\n",
    "    # cost 계산\r\n",
    "    cost = F.cross_entropy(prediction, y_train)\r\n",
    "\r\n",
    "    # cost로 H(x) 개선\r\n",
    "    optimizer.zero_grad()\r\n",
    "    cost.backward()\r\n",
    "    optimizer.step()\r\n",
    "\r\n",
    "    # 20번마다 로그 출력\r\n",
    "    if epoch % 100 == 0:\r\n",
    "        print('Epoch {:4d}/{} Cost: {:.6f}'.format(\r\n",
    "            epoch, nb_epochs, cost.item()\r\n",
    "        ))"
   ],
   "outputs": [
    {
     "output_type": "stream",
     "name": "stdout",
     "text": [
      "Epoch    0/1000 Cost: 2.637636\n",
      "Epoch  100/1000 Cost: 0.647903\n",
      "Epoch  200/1000 Cost: 0.564643\n",
      "Epoch  300/1000 Cost: 0.511043\n",
      "Epoch  400/1000 Cost: 0.467249\n",
      "Epoch  500/1000 Cost: 0.428281\n",
      "Epoch  600/1000 Cost: 0.391924\n",
      "Epoch  700/1000 Cost: 0.356742\n",
      "Epoch  800/1000 Cost: 0.321577\n",
      "Epoch  900/1000 Cost: 0.285617\n",
      "Epoch 1000/1000 Cost: 0.250818\n"
     ]
    }
   ],
   "metadata": {}
  },
  {
   "cell_type": "markdown",
   "source": [
    "소프트맥스 회귀의 레이블은 왜 원-핫 인코딩으로 사용하지 않는가?"
   ],
   "metadata": {}
  },
  {
   "cell_type": "code",
   "execution_count": 85,
   "source": [
    "loss = nn.CrossEntropyLoss()\r\n",
    "input = torch.randn(3, 5, requires_grad=True)\r\n",
    "print(input)\r\n",
    "target = torch.empty(3, dtype=torch.long).random_(5)\r\n",
    "print(target)\r\n",
    "\r\n",
    "output = loss(input, target)\r\n",
    "print(input)\r\n",
    "\r\n",
    "print(output)\r\n",
    "output.backward()"
   ],
   "outputs": [
    {
     "output_type": "stream",
     "name": "stdout",
     "text": [
      "tensor([[ 1.0579,  0.9621,  0.3935,  1.1322, -0.5404],\n",
      "        [-2.2102,  2.1130, -0.0040,  1.3800, -1.3505],\n",
      "        [ 0.3455,  0.5046,  1.8213, -0.1814, -0.9515]], requires_grad=True)\n",
      "tensor([4, 3, 3])\n",
      "tensor([[ 1.0579,  0.9621,  0.3935,  1.1322, -0.5404],\n",
      "        [-2.2102,  2.1130, -0.0040,  1.3800, -1.3505],\n",
      "        [ 0.3455,  0.5046,  1.8213, -0.1814, -0.9515]], requires_grad=True)\n",
      "tensor(2.2227, grad_fn=<NllLossBackward>)\n"
     ]
    }
   ],
   "metadata": {}
  },
  {
   "cell_type": "code",
   "execution_count": 100,
   "source": [
    "import torch\r\n",
    " \r\n",
    "labels = torch.tensor([1, 2, 3, 5])\r\n",
    "one_hot = torch.zeros(4, 6)\r\n",
    "print(one_hot)\r\n",
    "# tensor([[0., 0., 0., 0., 0., 0.],\r\n",
    "#         [0., 0., 0., 0., 0., 0.],\r\n",
    "#         [0., 0., 0., 0., 0., 0.],\r\n",
    "#         [0., 0., 0., 0., 0., 0.]])\r\n",
    "print(one_hot[torch.arange(4), labels])\r\n",
    "# tensor([1., 1., 1., 1.])\r\n",
    "one_hot[torch.arange(4), labels] = 1\r\n",
    "print(one_hot[torch.arange(4), labels] == 1)\r\n",
    "# tensor([True, True, True, True])\r\n",
    "reverted = torch.argmax(one_hot, dim=1)\r\n",
    "print(reverted)\r\n",
    "# tensor([1, 2, 3, 5])\r\n",
    "print(reverted.all().item())\r\n",
    "# True\r\n",
    "\r\n",
    "# all(iterable) 함수는 인자로 받은 반복 가능한 자료형(iterable)의 \r\n",
    "# 모든 요소가참(True)이면 참(True)을 반환하는 함수\r\n",
    "\r\n",
    "assert (labels == reverted).all().item()\r\n",
    "# assert는 뒤의 조건이 True가 아니면 AssertError를 발생한다."
   ],
   "outputs": [
    {
     "output_type": "stream",
     "name": "stdout",
     "text": [
      "tensor([[0., 0., 0., 0., 0., 0.],\n",
      "        [0., 0., 0., 0., 0., 0.],\n",
      "        [0., 0., 0., 0., 0., 0.],\n",
      "        [0., 0., 0., 0., 0., 0.]])\n",
      "tensor([0., 0., 0., 0.])\n",
      "tensor([True, True, True, True])\n",
      "tensor([1, 2, 3, 5])\n",
      "True\n"
     ]
    }
   ],
   "metadata": {}
  }
 ],
 "metadata": {
  "orig_nbformat": 4,
  "language_info": {
   "name": "python",
   "version": "3.8.5",
   "mimetype": "text/x-python",
   "codemirror_mode": {
    "name": "ipython",
    "version": 3
   },
   "pygments_lexer": "ipython3",
   "nbconvert_exporter": "python",
   "file_extension": ".py"
  },
  "kernelspec": {
   "name": "python3",
   "display_name": "Python 3.8.5 64-bit ('chch': conda)"
  },
  "interpreter": {
   "hash": "a64de8b745ab094eb3381810b1d090f0053b4977cc21c07d5a367fb401258f96"
  }
 },
 "nbformat": 4,
 "nbformat_minor": 2
}