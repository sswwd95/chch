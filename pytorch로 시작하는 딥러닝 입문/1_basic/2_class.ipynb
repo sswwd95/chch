{
 "cells": [
  {
   "cell_type": "markdown",
   "source": [
    "# 1. 함수(function)과 클래스(Class)의 차이"
   ],
   "metadata": {}
  },
  {
   "cell_type": "code",
   "execution_count": 12,
   "source": [
    "# 함수(function)로 덧셈기 구현\r\n",
    "result = 0\r\n",
    "\r\n",
    "def add(num):\r\n",
    "    global result\r\n",
    "    result += num\r\n",
    "    return result\r\n",
    "\r\n",
    "print(add(3))\r\n",
    "print(add(4))\r\n",
    "\r\n",
    "# 두 개의 덧셈기\r\n",
    "result1 = 0\r\n",
    "result2 = 0\r\n",
    "\r\n",
    "def add1(num):\r\n",
    "    global result1\r\n",
    "    result1 += num\r\n",
    "    return result1\r\n",
    "\r\n",
    "def add2(num):\r\n",
    "    global result2\r\n",
    "    result2 += num\r\n",
    "    return result2\r\n",
    "\r\n",
    "print(add1(3))\r\n",
    "print(add1(4))\r\n",
    "print(add2(3))\r\n",
    "print(add2(7))"
   ],
   "outputs": [
    {
     "output_type": "stream",
     "name": "stdout",
     "text": [
      "3\n",
      "7\n",
      "3\n",
      "7\n",
      "3\n",
      "10\n"
     ]
    }
   ],
   "metadata": {}
  },
  {
   "cell_type": "code",
   "execution_count": 13,
   "source": [
    "# 덧셈기 class로 구현\r\n",
    "class Calculator:\r\n",
    "    def __init__(self): # 객체 생성 시 호출될 때 실행되는 초기화 함수. 이를 생성자라고 한다.\r\n",
    "        self.result = 0\r\n",
    "\r\n",
    "    def add(self, num): # 객체 생성 후 사용할 수 있는 함수.\r\n",
    "        self.result += num\r\n",
    "        return self.result\r\n",
    "\r\n",
    "cal1 = Calculator()\r\n",
    "cal2 = Calculator()\r\n",
    "\r\n",
    "print(cal1.add(3))\r\n",
    "print(cal1.add(4))\r\n",
    "print(cal2.add(3))\r\n",
    "print(cal2.add(7))\r\n",
    "\r\n",
    "# class를 사용하면 코드가 훨씬 간결해진다."
   ],
   "outputs": [
    {
     "output_type": "stream",
     "name": "stdout",
     "text": [
      "3\n",
      "7\n",
      "3\n",
      "10\n"
     ]
    }
   ],
   "metadata": {}
  }
 ],
 "metadata": {
  "orig_nbformat": 4,
  "language_info": {
   "name": "python"
  }
 },
 "nbformat": 4,
 "nbformat_minor": 2
}